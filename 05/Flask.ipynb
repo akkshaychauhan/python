{
 "cells": [
  {
   "cell_type": "markdown",
   "metadata": {},
   "source": [
    "# <center>Intro to Flask</center>\n",
    "\n",
    "<img src=https://memegenerator.net/img/instances/500x/66101240/when-did-you-become-an-expert-in-python-flask-this-morning-it-was-quite-easy-actually.jpg height=600 width=400>"
   ]
  },
  {
   "cell_type": "markdown",
   "metadata": {},
   "source": [
    "![](http://img.linuxfr.org/img/68747470733a2f2f75706c6f61642e77696b696d656469612e6f72672f77696b6970656469612f636f6d6d6f6e732f332f33632f466c61736b5f6c6f676f2e737667/Flask_logo.svg)\n",
    "\n",
    "Flask is a small and powerful web framework for Python. It's easy to learn and simple to use, enabling you to build your web app in a short amount of time."
   ]
  },
  {
   "cell_type": "markdown",
   "metadata": {},
   "source": [
    "## Installation\n",
    "\n",
    "Before we install **Flask**, we need to create a virtual environment.\n",
    "\n",
    "\n",
    "### 1. Installing virtualenv\n",
    "\n",
    ">**virtualenv** is a useful tool that creates isolated Python development environments where you can do all your development work. Suppose you come across a new Python library that you'd like to try. If you install it system-wide, there is the risk of messing up other libraries that you might have installed. Instead, use virtualenv to create a sandbox, where you can install and use the library without affecting the rest of your system. You can keep using this sandbox for ongoing development work, or you can simply delete it once you've finished using it. Either way, your system remains organized and clutter-free.\n",
    "\n",
    "To install **virtualenv**, simply do:\n",
    "```\n",
    "pip install virtualenv\n",
    "```\n",
    "\n",
    "### 2. Creating virtual environment\n",
    "\n",
    "After installing virtualenv, you can create a new isolated development environment in your project folder like this:\n",
    "```\n",
    "virtualenv myvenv\n",
    "```\n",
    "\n",
    "> Here, **myvenv** is the name of your virtual environment.\n",
    "\n",
    "Now, you have to activate it like this:\n",
    "\n",
    "- For ubuntu and mac users:\n",
    "    ```\n",
    "    source myvenv/bin/activate\n",
    "    ```\n",
    "    \n",
    "- For windows users:\n",
    "    ```\n",
    "    myvenv\\Scripts\\activate\n",
    "    ```\n",
    "    \n",
    "### 3. Install flask\n",
    "\n",
    "Now, install flask in your virtual environment like this:\n",
    "```\n",
    "pip install flask\n",
    "```"
   ]
  },
  {
   "cell_type": "markdown",
   "metadata": {},
   "source": [
    "## Basic example\n",
    "\n",
    "```python\n",
    "from flask import Flask\n",
    "app = Flask(__name__)\n",
    "\n",
    "@app.route('/')\n",
    "def hello_world():\n",
    "   return 'Hello World’\n",
    "\n",
    "if __name__ == '__main__':\n",
    "   app.run()\n",
    "```\n",
    "\n",
    "\n",
    "- The route() function of the Flask class is a decorator, which tells the application which URL should call the associated function.\n",
    "    >A decorator is the name used for a software design pattern. Decorators dynamically alter the functionality of a function, method, or class without having to directly use subclasses or change the source code of the function being decorated.\n",
    "    \n",
    "    In the above example, ‘/’ URL is bound with hello_world() function. Hence, when the home page of web server is opened in browser, the output of this function will be rendered.\n",
    "    \n",
    "- Finally the run() method of Flask class runs the application on the local development server.\n",
    "  ```\n",
    "  app.run(host, port, debug, options)\n",
    "  ```\n",
    "  All parameters are optional.\n",
    "  "
   ]
  },
  {
   "cell_type": "markdown",
   "metadata": {},
   "source": [
    "## Flask templates\n",
    "\n",
    "The term **web templating system** refers to designing an HTML script in which the variable data can be inserted dynamically. A web template system comprises of a template engine, some kind of data source and a template processor.\n",
    "\n",
    "Flask uses **jinja2** template engine. A web template contains HTML syntax interspersed placeholders for variables and expressions (in these case Python expressions) which are replaced values when the template is rendered.\n",
    "\n",
    "<img src=https://i.pinimg.com/736x/ea/45/41/ea4541884a663f15d029a36b8aac1797--template-engine-ui-ux.jpg height=400 width=400>"
   ]
  },
  {
   "cell_type": "markdown",
   "metadata": {},
   "source": [
    "## To fetch parameters from request body\n",
    "\n",
    "```\n",
    "request.args.get(<argument-name>)\n",
    "```"
   ]
  },
  {
   "cell_type": "markdown",
   "metadata": {},
   "source": [
    "## To fetch form/data values from request body\n",
    "\n",
    "```\n",
    "request.form.get(<input-name>)\n",
    "```"
   ]
  },
  {
   "cell_type": "markdown",
   "metadata": {},
   "source": [
    "## To fetch files from request body\n",
    "\n",
    "```\n",
    "request.files.get(<file-name>)\n",
    "```"
   ]
  },
  {
   "cell_type": "markdown",
   "metadata": {},
   "source": [
    "![](https://cdn-images-1.medium.com/max/512/1*3UaLDKs6bJRMtYoPDCIWBw.png)"
   ]
  },
  {
   "cell_type": "markdown",
   "metadata": {},
   "source": [
    "## mongoDB integration\n",
    "\n",
    "https://docs.mongodb.com/manual/introduction/\n",
    "\n",
    ">MongoDB is an open source database that uses a document-oriented data model. MongoDB is one of several database types to arise in the mid-2000s under the NoSQL banner. Instead of using tables and rows as in relational databases, MongoDB is built on an architecture of collections and documents.\n",
    "mLab (500 MB free!)\n",
    "\n",
    "<img src=\"https://mlab.com/company/brand/img/downloads/mLab-logo-onlight.png\" height=300 width=400>\n",
    "https://mlab.com/\n",
    "\n",
    ">mLab is a fully managed cloud database service that hosts MongoDB databases.\n",
    "\n",
    "### mongoDB python client\n",
    "```\n",
    "pip install pymongo\n",
    "```"
   ]
  }
 ],
 "metadata": {
  "kernelspec": {
   "display_name": "Python 3",
   "language": "python",
   "name": "python3"
  },
  "language_info": {
   "codemirror_mode": {
    "name": "ipython",
    "version": 3
   },
   "file_extension": ".py",
   "mimetype": "text/x-python",
   "name": "python",
   "nbconvert_exporter": "python",
   "pygments_lexer": "ipython3",
   "version": "3.6.3"
  }
 },
 "nbformat": 4,
 "nbformat_minor": 2
}
