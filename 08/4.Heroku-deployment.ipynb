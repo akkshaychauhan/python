{
 "cells": [
  {
   "cell_type": "markdown",
   "metadata": {},
   "source": [
    "# CHATBOT AUTOMATION BOOTCAMP\n",
    "\n",
    "# ***Part-4***\n",
    "\n",
    "![](https://wac-cdn.atlassian.com/dam/jcr:18e24c93-8cee-4b85-a43e-06d427fb5928/icon-deploy.png?cdnVersion=ga)\n",
    "\n",
    "In this part, we are gonna do:\n",
    "- MongoDB integration\n",
    "- Heroku deployment"
   ]
  },
  {
   "cell_type": "markdown",
   "metadata": {},
   "source": [
    "## mongoDB integration\n",
    "\n",
    "![](https://camo.githubusercontent.com/1fd28c30de8b0b4b0f2256f909e24bfeca7f1879/687474703a2f2f746563686e6f7469702e636f6d2f77702d636f6e74656e742f75706c6f6164732f6d6f6e676f44422f6c6f676f2d6d6f6e676f64622d7461676c696e652e706e67)\n",
    "\n",
    "https://docs.mongodb.com/manual/introduction/\n",
    "\n",
    ">MongoDB is an open source database that uses a document-oriented data model. MongoDB is one of several database types to arise in the mid-2000s under the NoSQL banner. Instead of using tables and rows as in relational databases, MongoDB is built on an architecture of collections and documents.\n",
    "\n",
    "## mLab (500 MB free!)\n",
    "\n",
    "<img src=\"https://mlab.com/company/brand/img/downloads/mLab-logo-onlight.png\" height=300 width=400>\n",
    "https://mlab.com/\n",
    "\n",
    ">mLab is a fully managed cloud database service that hosts MongoDB databases.\n",
    "\n",
    "### mongoDB python client\n",
    "```\n",
    "pip install pymongo\n",
    "```"
   ]
  },
  {
   "cell_type": "code",
   "execution_count": null,
   "metadata": {},
   "outputs": [],
   "source": [
    "from pymongo import MongoClient"
   ]
  },
  {
   "cell_type": "code",
   "execution_count": null,
   "metadata": {},
   "outputs": [],
   "source": [
    "MONGODB_URI = \"YOUR_MONGODB_URI_HERE\"\n",
    "client = MongoClient(MONGODB_URI)\n",
    "db = client.get_database(\"News\"\n",
    "news_records = db.news_records"
   ]
  },
  {
   "cell_type": "markdown",
   "metadata": {},
   "source": [
    "## [heroku](https://www.heroku.com/)\n",
    "\n",
    ">Heroku is a platform as a service (PaaS) that enables developers to build, run, and operate applications entirely in the cloud.\n",
    "\n",
    "<img src=https://i.pinimg.com/736x/55/2c/4f/552c4fc27b4e01093debed5870f33389--cloud-office-clouds.jpg height=400 width=400>"
   ]
  },
  {
   "cell_type": "markdown",
   "metadata": {},
   "source": [
    "## We need to create some new files first!\n",
    "\n",
    "### 1. Procfile\n",
    "A Procfile is a mechanism for declaring what commands are run by your application's dynos on the Heroku platform.\n",
    "\n",
    "```\n",
    "web gunicorn app:app\n",
    "```\n",
    "\n",
    "### 2. runtime.txt\n",
    "\n",
    "To specify a particular version of Python via your app's runtime.txt\n",
    "\n",
    "```\n",
    "python-3.6.3\n",
    "```\n",
    "\n",
    "### 3. requirements.txt\n",
    "\n",
    "Contains all 3rd party libraries required by your app.\n",
    "\n",
    "Simply do:\n",
    "```\n",
    "$ pip freeze > requirements.txt\n",
    "```\n",
    "\n",
    "to generate a **requirements.txt** file.\n",
    "\n",
    "### 4. .gitignore\n",
    "\n",
    ".gitignore file specifies patterns which are used to exclude certain files in your working directory from your Git history.\n",
    "\n",
    "```\n",
    "\\venv\n",
    "*.pyc\n",
    "```"
   ]
  },
  {
   "cell_type": "markdown",
   "metadata": {},
   "source": [
    "## Now, its time to create a Heroku app!\n",
    "\n",
    "\n",
    "1. Download Heroku CLI from [here](https://devcenter.heroku.com/articles/heroku-cli#download-and-install).\n",
    "\n",
    "2. Now, create a new Heroku app.\n",
    "\n",
    "    ```\n",
    "    heroku create <your-app-name>\n",
    "    ```\n",
    "\n",
    "3. Initialize a new git repository in your project folder.\n",
    "\n",
    "    ```\n",
    "    git init\n",
    "    ```\n",
    "\n",
    "4. Add all untracked files to git repository by:\n",
    "\n",
    "    ```\n",
    "    git add .\n",
    "    ```\n",
    "\n",
    "5. Commit the changes to git repository by:\n",
    "\n",
    "    ```\n",
    "    git commit -m \"YOUR_COMMIT_MESSAGE_HERE\"\n",
    "    ```\n",
    "\n",
    "6. Now, to add the address(remote URL) of the **heroku app's git repository** in your **local git repository**:\n",
    "\n",
    "    ```\n",
    "    heroku git:remote <your-app-name>\n",
    "    ```\n",
    "\n",
    "7. Scaling heroku dynos\n",
    "    >Each dyno runs a single process inside your application virtual machine. You may need to scale the dynos to run your app.\n",
    "    \n",
    "    ```\n",
    "    heroku ps:scale web=1\n",
    "    ```\n",
    "\n",
    "8. Finally, you are ready to deploy your app by pushing your **local git repository** to the remote **heroku app's git repository** by: \n",
    "    ```\n",
    "    git push heroku master\n",
    "    ```\n",
    "    \n",
    "9. To check the logs of your heroku app:\n",
    "    ```\n",
    "    heroku logs\n",
    "    ```\n",
    "    \n",
    "    or you can go to [Heroku dashboard](https://www.heroku.com) of your app as shown below:\n",
    "    \n",
    "    <img src=https://i.imgur.com/egIVpMH.png height=600 width=800>"
   ]
  },
  {
   "cell_type": "markdown",
   "metadata": {},
   "source": [
    "![](https://memegenerator.net/img/instances/31909409.jpg)"
   ]
  }
 ],
 "metadata": {
  "kernelspec": {
   "display_name": "Python 3",
   "language": "python",
   "name": "python3"
  },
  "language_info": {
   "codemirror_mode": {
    "name": "ipython",
    "version": 3
   },
   "file_extension": ".py",
   "mimetype": "text/x-python",
   "name": "python",
   "nbconvert_exporter": "python",
   "pygments_lexer": "ipython3",
   "version": "3.6.3"
  }
 },
 "nbformat": 4,
 "nbformat_minor": 2
}
