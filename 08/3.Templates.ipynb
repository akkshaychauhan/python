{
 "cells": [
  {
   "cell_type": "markdown",
   "metadata": {},
   "source": [
    "# CHATBOT AUTOMATION BOOTCAMP\n",
    "\n",
    "# ***Part-3***\n",
    "\n",
    "![](https://cdn-images-1.medium.com/max/2000/1*pIxBBG6O7C5NfjnrepIFBQ.png)\n",
    "\n",
    "In this part:\n",
    "- Explore FB templates"
   ]
  },
  {
   "cell_type": "markdown",
   "metadata": {},
   "source": [
    "### Message templates offer a way for you to offer a richer in-conversation experience than standard text messages by integrating buttons, images, lists, and more alongside text a single message. Templates can be use for many purposes, such as displaying product information, asking the message recipient to choose from a pre-determined set of options, and showing search results."
   ]
  },
  {
   "cell_type": "markdown",
   "metadata": {},
   "source": [
    "### Some common templates are:\n",
    "\n",
    "- [Button](https://developers.facebook.com/docs/messenger-platform/send-messages/template/button)\n",
    "    <img src=https://scontent.fdel1-1.fna.fbcdn.net/v/t39.2365-6/23204276_131607050888932_1057585862134464512_n.png?oh=ec127f3527146478fe2039b37aaf44f7&oe=5ACADA0A height=300 width=300>\n",
    "    \n",
    "    Types of buttons:\n",
    "    - web url\n",
    "    - postback (will discuss about it in a while!)\n",
    "- [Generic templates](https://developers.facebook.com/docs/messenger-platform/send-messages/template/generic)\n",
    "    <img src=https://scontent.fdel1-1.fna.fbcdn.net/v/t39.2365-6/22880422_1740199342956641_1916832982102966272_n.png?oh=996bc881f5030b4f2084f5327b9e896d&oe=5AC84B3C height=300 width=300>\n",
    "- [List templates](https://developers.facebook.com/docs/messenger-platform/send-messages/template/list)\n",
    "    <img src=https://scontent.fdel1-1.fna.fbcdn.net/v/t39.2365-6/21274842_1998857677000635_328116182651502592_n.png?oh=b286e208c58f91f0ff58eceb8379ffb2&oe=5AB4F105 height=300 width=300>"
   ]
  },
  {
   "cell_type": "markdown",
   "metadata": {},
   "source": [
    "## Postbacks\n",
    "\n",
    "Postbacks occur when a postback button, Get Started button, or persistent menu item is tapped.\n",
    "\n",
    "The payload field passed is defined in the above places.\n",
    "\n",
    "### How to handle postbacks?\n",
    "\n",
    "```python\n",
    "                if messaging_event.get('message'):\n",
    "\t\t\t\t\t# HANDLE NORMAL MESSAGES HERE\n",
    "                    if messaging_event['message'].get('text'):\n",
    "\t\t\t\t\t\t# HANDLE TEXT MESSAGES\n",
    "\t\t\t\t\t\tquery = messaging_event['message']['text']\n",
    "                        .\n",
    "                        .\n",
    "                        .\n",
    "\n",
    "\t\t\t\telif messaging_event.get('postback'):\n",
    "\t\t\t\t\t# HANDLE POSTBACKS HERE\n",
    "\t\t\t\t\tpayload = messaging_event['postback']['payload']\n",
    "\t\t\t\t\t.\n",
    "                    .\n",
    "                    .\n",
    "```"
   ]
  },
  {
   "cell_type": "markdown",
   "metadata": {},
   "source": [
    "## Other than that, we have:\n",
    "\n",
    "- [Quick reply](https://developers.facebook.com/docs/messenger-platform/send-messages/quick-replies)\n",
    "    Quick replies provide a way to present a set of up to 11 buttons in-conversation that contain a title and optional image, and appear prominently above the composer.\n",
    "    <img src=https://scontent.fdel1-1.fna.fbcdn.net/v/t39.2365-6/14175277_1582251242076612_248078259_n.png?oh=449f7d70580c1fd0ae571ecccce5dee1&oe=5AB826D6 >\n",
    "\n",
    "- [Persistent menu](https://developers.facebook.com/docs/messenger-platform/send-messages/persistent-menu)\n",
    "\n",
    "    To set persistent menu, send a POST request using this function:\n",
    "\n",
    "    ```python\n",
    "    def set_persistent_menu():\n",
    "        headers = {\n",
    "            'Content-Type':'application/json'\n",
    "            }\n",
    "        data = {\n",
    "            \"setting_type\":\"call_to_actions\",\n",
    "            \"thread_state\" : \"existing_thread\",\n",
    "            \"call_to_actions\":[\n",
    "                {\n",
    "                    \"type\":\"web_url\",\n",
    "                    \"title\":\"Meet the developer\",\n",
    "                    \"url\":\"https://fb.me/nikhilksingh97\" \n",
    "                },\n",
    "                {\n",
    "                    \"type\":\"postback\",\n",
    "                    \"title\":\"Help\",\n",
    "                    \"payload\":\"SHOW_HELP\"\n",
    "                }]\n",
    "            }\n",
    "        ENDPOINT = \"https://graph.facebook.com/v2.6/me/thread_settings?access_token=%s\"%(FB_ACCESS_TOKEN)\n",
    "        r = requests.post(ENDPOINT, headers = headers, data = json.dumps(data))\n",
    "        print(r.content)\n",
    "    ```\n",
    "\n",
    "- [Greeting text](https://developers.facebook.com/docs/messenger-platform/thread-settings/greeting-text)\n",
    "\n",
    "    To set greeting text, send a POST request using this function:\n",
    "\n",
    "    ```python\n",
    "    def set_greeting_text():\n",
    "        headers = {\n",
    "            'Content-Type':'application/json'\n",
    "            }\n",
    "        data = {\n",
    "            \"setting_type\":\"greeting\",\n",
    "            \"greeting\":{\n",
    "                \"text\":\"Hi {{user_first_name}}! I am news bot\"\n",
    "                }\n",
    "            }\n",
    "        ENDPOINT = \"https://graph.facebook.com/v2.8/me/thread_settings?access_token=%s\"%(FB_ACCESS_TOKEN)\n",
    "        r = requests.post(ENDPOINT, headers = headers, data = json.dumps(data))\n",
    "        print(r.content)\n",
    "\n",
    "    ```"
   ]
  },
  {
   "cell_type": "markdown",
   "metadata": {},
   "source": [
    "![](https://media.makeameme.org/created/why-fb-messenger.jpg)"
   ]
  }
 ],
 "metadata": {
  "kernelspec": {
   "display_name": "Python 3",
   "language": "python",
   "name": "python3"
  },
  "language_info": {
   "codemirror_mode": {
    "name": "ipython",
    "version": 3
   },
   "file_extension": ".py",
   "mimetype": "text/x-python",
   "name": "python",
   "nbconvert_exporter": "python",
   "pygments_lexer": "ipython3",
   "version": "3.6.3"
  }
 },
 "nbformat": 4,
 "nbformat_minor": 2
}
