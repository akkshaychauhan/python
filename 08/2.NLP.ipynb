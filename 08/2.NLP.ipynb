{
 "cells": [
  {
   "cell_type": "markdown",
   "metadata": {},
   "source": [
    "# CHATBOT AUTOMATION BOOTCAMP\n",
    "\n",
    "# ***Part-2***\n",
    "\n",
    "<img src=\"https://i.ytimg.com/vi/MaxDOvNHVcE/maxresdefault.jpg\" height=300 width=600>\n",
    "--------------\n",
    "\n",
    "In this part:\n",
    "\n",
    "- Introduction to wit.ai\n",
    "- Introduction to api.ai\n",
    "- Integrating api.ai to our chatbot"
   ]
  },
  {
   "cell_type": "markdown",
   "metadata": {},
   "source": [
    "## Messenger built-in NLP\n",
    "\n",
    "https://developers.facebook.com/docs/messenger-platform/built-in-nlp\n",
    "\n",
    "![](https://scontent.fdel3-1.fna.fbcdn.net/v/t39.2365-6/20215829_252631918588760_1670504921071353856_n.png?oh=1a6c90e15a2a1637ea653b8f5e17df80&oe=5A2C51DC)"
   ]
  },
  {
   "cell_type": "markdown",
   "metadata": {},
   "source": [
    "## wit.ai\n",
    "\n",
    "https://wit.ai/\n",
    "\n",
    "<img src=\"https://tctechcrunch2011.files.wordpress.com/2015/01/fb-wit.png?w=738\" height=300 width=400>\n",
    "\n",
    "\n",
    "### Entities and intents\n",
    "\n",
    "![](https://media.licdn.com/mpr/mpr/AAEAAQAAAAAAAAmwAAAAJGUyY2FiZjU5LTA4MmEtNDJiYS1hMWIwLTY4MTE2ZmJlODM5Yg.png)\n",
    "\n",
    "\n",
    "![](https://developers.facebook.com/docs/messenger-platform/built-in-nlp)"
   ]
  },
  {
   "cell_type": "markdown",
   "metadata": {},
   "source": [
    "## api.ai\n",
    "\n",
    "https://api.ai/\n",
    "\n",
    "https://api.ai/docs/\n",
    "\n",
    "![](https://home-assistant.io/images/supported_brands/apiai.png)\n",
    "\n",
    "![](https://api.ai/docs/images/overview/agents/agents-000.png)\n",
    "\n",
    "\n",
    "\n",
    "### What are we gonna do?\n",
    "\n",
    "- Create an entity called **news** with these news categories:\n",
    "    - sports\n",
    "    - political\n",
    "    - business\n",
    "    - top stories\n",
    "    - world\n",
    "    - national\n",
    "    - technology\n",
    "    - entertainment\n",
    "    \n",
    "    ![](https://i.imgur.com/hiYy9Ti.png)\n",
    "    \n",
    "- Now, create an intent called **show_news** and train api.ai agent with some examples.\n",
    "  Also, we use examples which contain location and language names and use default entities **sys.geo-country** and **sys.language** for them!\n",
    "  ![](https://i.imgur.com/G0rzqxR.png)\n",
    "   \n",
    "### Integrating api.ai with chatbot\n",
    "\n",
    "```\n",
    "pip install apiai\n",
    "```"
   ]
  },
  {
   "cell_type": "markdown",
   "metadata": {},
   "source": [
    "![](https://i.imgur.com/fzbkRI8.png)"
   ]
  }
 ],
 "metadata": {
  "kernelspec": {
   "display_name": "Python 3",
   "language": "python",
   "name": "python3"
  },
  "language_info": {
   "codemirror_mode": {
    "name": "ipython",
    "version": 3
   },
   "file_extension": ".py",
   "mimetype": "text/x-python",
   "name": "python",
   "nbconvert_exporter": "python",
   "pygments_lexer": "ipython3",
   "version": "3.6.3"
  }
 },
 "nbformat": 4,
 "nbformat_minor": 2
}
