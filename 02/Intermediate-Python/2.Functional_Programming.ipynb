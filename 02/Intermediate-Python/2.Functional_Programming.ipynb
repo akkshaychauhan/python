{
 "cells": [
  {
   "cell_type": "markdown",
   "metadata": {},
   "source": [
    "# <center>Intermediate Python (Part-2)</center>"
   ]
  },
  {
   "cell_type": "markdown",
   "metadata": {},
   "source": [
    "# ***<center>Functional Programming</center>***\n",
    "<img src=https://i.imgur.com/M0aGufM.jpg height=400 width=400>"
   ]
  },
  {
   "cell_type": "markdown",
   "metadata": {},
   "source": [
    ">Functional programming looks at programming like a function in mathematics. The program receives input, some information, and uses this information to create output. It will not have a state in between, and it will also not change things that are not related to the computation.\n",
    "\n",
    "<img src=http://www.ouarzy.com/wp-content/uploads/2017/08/1200px-Function_machine2.svg_.png height=400 width=400>"
   ]
  },
  {
   "cell_type": "markdown",
   "metadata": {},
   "source": [
    "## 1. lambda functions\n",
    "\n",
    "<img src=https://www.cprogramming.com/c++11/lambda.png height=50 width=50>\n",
    "\n",
    "Also called **anonymous** functions or **first-class** functions.\n",
    "\n",
    "An anonymous function is a function that has no name. Usually, a function is written like: \n",
    "\n",
    "\n",
    "$f(x) = x^2 - x + 42$\n",
    "\n",
    "\n",
    "It can be written anonymously as:\n",
    "\n",
    "$x \\rightarrow x^2 - x + 42$\n",
    "\n",
    "In Python, format of defining a **lambda** function is:\n",
    "\n",
    "```python\n",
    "lambda arguments: expression\n",
    "```\n",
    "\n",
    "Let's write a lambda function to find square of a given integer."
   ]
  },
  {
   "cell_type": "code",
   "execution_count": 3,
   "metadata": {},
   "outputs": [],
   "source": [
    "sq = lambda x: x**2"
   ]
  },
  {
   "cell_type": "code",
   "execution_count": 4,
   "metadata": {},
   "outputs": [
    {
     "data": {
      "text/plain": [
       "4"
      ]
     },
     "execution_count": 4,
     "metadata": {},
     "output_type": "execute_result"
    }
   ],
   "source": [
    "sq(2)"
   ]
  },
  {
   "cell_type": "markdown",
   "metadata": {},
   "source": [
    "![](https://i.imgflip.com/21bwq6.jpg)"
   ]
  },
  {
   "cell_type": "markdown",
   "metadata": {},
   "source": [
    "## 2. map\n",
    "\n",
    "**map** applies a function to all the items in an input sequence.\n",
    "\n",
    "```python\n",
    "map(function_to_apply, list_of_inputs)\n",
    "```\n",
    "\n",
    "![](https://i.imgur.com/5zbuPki.png)\n",
    "\n",
    "Let's write a function to square all elements of a list in 1 line."
   ]
  },
  {
   "cell_type": "code",
   "execution_count": 5,
   "metadata": {},
   "outputs": [],
   "source": [
    "myList = [1,2,3,4]"
   ]
  },
  {
   "cell_type": "code",
   "execution_count": 7,
   "metadata": {},
   "outputs": [
    {
     "data": {
      "text/plain": [
       "[1, 4, 9, 16]"
      ]
     },
     "execution_count": 7,
     "metadata": {},
     "output_type": "execute_result"
    }
   ],
   "source": [
    "list(map(lambda x:x**2, myList))"
   ]
  },
  {
   "cell_type": "markdown",
   "metadata": {},
   "source": [
    "## 3. filter\n",
    "\n",
    "**filter** creates a list of elements for which a function returns true.\n",
    "\n",
    "```python\n",
    "filter(function_to_apply, list_of_inputs)\n",
    "```\n",
    "\n",
    "![](https://i.imgur.com/Fgllm7F.png)\n",
    "\n",
    "Let's write a function to filter odd numbers from a list."
   ]
  },
  {
   "cell_type": "code",
   "execution_count": 8,
   "metadata": {},
   "outputs": [],
   "source": [
    "myList = [1,2,3,4,5]"
   ]
  },
  {
   "cell_type": "code",
   "execution_count": 9,
   "metadata": {},
   "outputs": [
    {
     "data": {
      "text/plain": [
       "[1, 3, 5]"
      ]
     },
     "execution_count": 9,
     "metadata": {},
     "output_type": "execute_result"
    }
   ],
   "source": [
    "list(filter(lambda x:x%2, myList))"
   ]
  },
  {
   "cell_type": "markdown",
   "metadata": {},
   "source": [
    "## 4. reduce\n",
    "**reduce** applies a rolling computation(defined by a function) to sequential pairs of values in a list and finally returns a result.\n",
    "\n",
    "```python\n",
    "reduce(function_to_apply, list_of_inputs)\n",
    "```\n",
    "![](https://i.imgur.com/QqBNAEJ.png)\n",
    "\n",
    "Let's write a function to find maximum element in a list."
   ]
  },
  {
   "cell_type": "code",
   "execution_count": 12,
   "metadata": {},
   "outputs": [],
   "source": [
    "from functools import reduce"
   ]
  },
  {
   "cell_type": "code",
   "execution_count": 14,
   "metadata": {},
   "outputs": [
    {
     "data": {
      "text/plain": [
       "5"
      ]
     },
     "execution_count": 14,
     "metadata": {},
     "output_type": "execute_result"
    }
   ],
   "source": [
    "reduce(lambda x,y:max(x,y), myList)"
   ]
  },
  {
   "cell_type": "markdown",
   "metadata": {},
   "source": [
    "![](http://ift.tt/2rSSz3z)\n",
    "\n",
    "![](https://memegenerator.net/img/instances/500x/80935068/still-dont-like-lambdaaaaa.jpg)"
   ]
  },
  {
   "cell_type": "markdown",
   "metadata": {},
   "source": [
    "## Well, you can use list comprehension in place of **map** and **filter** if you want!"
   ]
  },
  {
   "cell_type": "markdown",
   "metadata": {},
   "source": [
    "## List comprehension\n",
    "\n",
    "List comprehension provides a concise way to create lists from an existing sequence!\n",
    "\n",
    "![](http://python-3-patterns-idioms-test.readthedocs.io/en/latest/_images/listComprehensions.gif)\n",
    "\n",
    "Let's use list comprehension to reverse the strings of a given list if it starts with letter 'R'."
   ]
  },
  {
   "cell_type": "code",
   "execution_count": 15,
   "metadata": {},
   "outputs": [],
   "source": [
    "names = [\"Ram\", \"Shyam\", \"Mukesh\", \"Ravi\"]"
   ]
  },
  {
   "cell_type": "code",
   "execution_count": 16,
   "metadata": {},
   "outputs": [
    {
     "data": {
      "text/plain": [
       "['maR', 'ivaR']"
      ]
     },
     "execution_count": 16,
     "metadata": {},
     "output_type": "execute_result"
    }
   ],
   "source": [
    "[name[::-1] for name in names if name[0] == 'R']"
   ]
  },
  {
   "cell_type": "markdown",
   "metadata": {},
   "source": [
    "## Dict comprehension\n",
    "\n",
    "Dict comprehensions provide a concise way to create dictionary from an existing sequence!\n",
    "\n",
    "![](https://i.imgur.com/aYZnK34.png)\n",
    "\n",
    "Let's use dict comprehension to convert the **names** list to a dictionary where key is name and value is its length. "
   ]
  },
  {
   "cell_type": "code",
   "execution_count": 17,
   "metadata": {},
   "outputs": [
    {
     "data": {
      "text/plain": [
       "{'Mukesh': 6, 'Ram': 3, 'Ravi': 4, 'Shyam': 5}"
      ]
     },
     "execution_count": 17,
     "metadata": {},
     "output_type": "execute_result"
    }
   ],
   "source": [
    "{ name:len(name) for name in names}"
   ]
  },
  {
   "cell_type": "markdown",
   "metadata": {},
   "source": [
    "## BTW, there is something called set comprehension too!\n",
    "\n",
    "![](https://memegenerator.net/img/instances/500x/80935154/what-kind-of-people-are-these.jpg)"
   ]
  }
 ],
 "metadata": {
  "kernelspec": {
   "display_name": "Python 3",
   "language": "python",
   "name": "python3"
  },
  "language_info": {
   "codemirror_mode": {
    "name": "ipython",
    "version": 3
   },
   "file_extension": ".py",
   "mimetype": "text/x-python",
   "name": "python",
   "nbconvert_exporter": "python",
   "pygments_lexer": "ipython3",
   "version": "3.6.3"
  }
 },
 "nbformat": 4,
 "nbformat_minor": 2
}
