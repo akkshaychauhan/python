{
 "cells": [
  {
   "cell_type": "code",
   "execution_count": 2,
   "metadata": {},
   "outputs": [
    {
     "name": "stdout",
     "output_type": "stream",
     "text": [
      "Hello World!\n",
      "60.5\n"
     ]
    }
   ],
   "source": [
    "print(\"Hello World!\")\n",
    "\n",
    "print(10+20+30.5)"
   ]
  },
  {
   "cell_type": "markdown",
   "metadata": {},
   "source": [
    "### We are going to look at some **Python Basics**"
   ]
  },
  {
   "cell_type": "code",
   "execution_count": 4,
   "metadata": {},
   "outputs": [
    {
     "name": "stdout",
     "output_type": "stream",
     "text": [
      "<type 'str'>\n",
      "<type 'int'>\n"
     ]
    }
   ],
   "source": [
    "# Variables and Types\n",
    "\n",
    "a = \"Hello\"\n",
    "b = 10\n",
    "print(type(a))\n",
    "print(type(b))"
   ]
  },
  {
   "cell_type": "code",
   "execution_count": 25,
   "metadata": {},
   "outputs": [
    {
     "name": "stdout",
     "output_type": "stream",
     "text": [
      "100\n",
      "1000\n",
      "1024\n",
      "1\n",
      "1.25\n",
      "5\n",
      "2\n",
      "Hey5\n",
      "<type 'float'>\n"
     ]
    }
   ],
   "source": [
    "# Mathematical Operations\n",
    "\n",
    "a = 10\n",
    "c = 6.6\n",
    "print a*a\n",
    "print a**3\n",
    "\n",
    "b = 5\n",
    "a = 4\n",
    "print a**b\n",
    "\n",
    "print b/a\n",
    "print b/(a*1.0)\n",
    "\n",
    "a += 1\n",
    "print a\n",
    "\n",
    "print(10%4)\n",
    "\n",
    "print(\"Hey\" +str(a))\n",
    "\n",
    "print(type(c))"
   ]
  },
  {
   "cell_type": "code",
   "execution_count": 24,
   "metadata": {},
   "outputs": [
    {
     "name": "stdout",
     "output_type": "stream",
     "text": [
      "False\n",
      "True\n",
      "True\n",
      "True\n",
      "0\n"
     ]
    }
   ],
   "source": [
    "# Boolean Expressions\n",
    "\n",
    "a = True\n",
    "b = False\n",
    "\n",
    "print(a and b)\n",
    "print(a and not b)\n",
    "print(a or b)\n",
    "\n",
    "print(5>3)\n",
    "\n",
    "c = 0\n",
    "d = 7\n",
    "print(c and d)\n",
    "\n"
   ]
  },
  {
   "cell_type": "code",
   "execution_count": 109,
   "metadata": {},
   "outputs": [
    {
     "data": {
      "text/plain": [
       "'This is a \\nmultiline comment '"
      ]
     },
     "execution_count": 109,
     "metadata": {},
     "output_type": "execute_result"
    }
   ],
   "source": [
    "\"\"\"This is a \n",
    "multiline comment \"\"\""
   ]
  },
  {
   "cell_type": "code",
   "execution_count": 112,
   "metadata": {},
   "outputs": [
    {
     "name": "stdout",
     "output_type": "stream",
     "text": [
      "This is some \n",
      "            paragraph.\n"
     ]
    }
   ],
   "source": [
    "strg  = \"\"\"This is some \n",
    "            paragraph.\"\"\"\n",
    "\n",
    "print(strg)"
   ]
  },
  {
   "cell_type": "code",
   "execution_count": 36,
   "metadata": {},
   "outputs": [
    {
     "name": "stdout",
     "output_type": "stream",
     "text": [
      "<type 'list'>\n",
      "[1, 2, 3, 4]\n",
      "[1, 2, 'Hello', 4.5, ['Mango', 100]]\n",
      "['Mango', 100]\n",
      "100\n"
     ]
    }
   ],
   "source": [
    "# Lists in Python\n",
    "\n",
    "a = []\n",
    "b = [1,2,3,4]\n",
    "print(type(a))\n",
    "print(b)\n",
    "\n",
    "c = [ 1,2,\"Hello\",4.5,[\"Mango\",100]]\n",
    "print(c)\n",
    "print c[4]\n",
    "print c[4][1]\n"
   ]
  },
  {
   "cell_type": "code",
   "execution_count": 55,
   "metadata": {},
   "outputs": [
    {
     "name": "stdout",
     "output_type": "stream",
     "text": [
      "7\n",
      "3\n",
      "[2, 3, 5, 7, 8, 10, 15]\n",
      "[4, 2, 1, 3]\n",
      "[1, 2, 3, 4]\n",
      "[4, 2, 1, 3]\n",
      "[4, 3, 2, 1]\n",
      "[4, 3, 2, 1]\n"
     ]
    }
   ],
   "source": [
    "# More on Lists\n",
    "\n",
    "# print(c)\n",
    "a = [5,3,2,15,8,7,10]\n",
    "\n",
    "print len(a)\n",
    "#Linear Search\n",
    "print(a.index(15))\n",
    "a.sort()\n",
    "print(a)\n",
    "\n",
    "l = list([4,2,1,3])\n",
    "print l\n",
    "\n",
    "print(sorted(l))\n",
    "print l\n",
    "l2 = sorted(l)\n",
    "\n",
    "l2.reverse()\n",
    "print l2\n",
    "\n",
    "print(sorted(l2,reverse=True))"
   ]
  },
  {
   "cell_type": "code",
   "execution_count": 64,
   "metadata": {},
   "outputs": [
    {
     "name": "stdout",
     "output_type": "stream",
     "text": [
      "[1, 2, 3, 4, 8, 10, 12]\n",
      "2\n",
      "[1, 2, 3]\n",
      "[2, 3]\n",
      "[3, 4, 8, 10, 12]\n",
      "[1, 3, 8, 12]\n",
      "[2]\n"
     ]
    }
   ],
   "source": [
    "# Slicing\n",
    "\n",
    "l = [1,2,3,4,8,10,12]\n",
    "\n",
    "# l[s:e:jump] s in included, e is excluded,jump value\n",
    "print l\n",
    "print l[1]\n",
    "print l[:3]\n",
    "print l[1:3]\n",
    "print l[2:]\n",
    "print l[: :2]\n",
    "\n",
    "print l[1:4:3]\n"
   ]
  },
  {
   "cell_type": "code",
   "execution_count": 71,
   "metadata": {},
   "outputs": [
    {
     "name": "stdout",
     "output_type": "stream",
     "text": [
      "[1, 2, 3, 4, 8, 10, 12]\n",
      "10\n",
      "[]\n",
      "[3, 4, 8]\n",
      "[3, 8]\n",
      "[10, 8, 4]\n",
      "[12, 10, 8, 4, 3, 2, 1]\n"
     ]
    }
   ],
   "source": [
    "# Negative indexing\n",
    "l2 = l \n",
    "print l\n",
    "\n",
    "print l[-2]\n",
    "print l[-2:-5]\n",
    "print l[-5:-2]\n",
    "print l[-5:-2:2]\n",
    "print l[-2:-5:-1]\n",
    "print l[: : -1]\n"
   ]
  },
  {
   "cell_type": "code",
   "execution_count": 74,
   "metadata": {},
   "outputs": [
    {
     "name": "stdout",
     "output_type": "stream",
     "text": [
      "[1, 2, 3, 20]\n",
      "[1, 2, 3, 20, 'Mango', 'Apple']\n",
      "[1, 2, 3, 20, ['Mango', 'Apple']]\n"
     ]
    }
   ],
   "source": [
    "# Append\n",
    "\n",
    "a = [1,2,3]\n",
    "a.append(20)\n",
    "print a\n",
    "\n",
    "b = [\"Mango\",\"Apple\"]\n",
    "\n",
    "print(a+b)\n",
    "a.append(b)\n",
    "print(a)\n"
   ]
  },
  {
   "cell_type": "code",
   "execution_count": 78,
   "metadata": {},
   "outputs": [
    {
     "name": "stdout",
     "output_type": "stream",
     "text": [
      "{'Banana': [20, 40], 'Kiwi': {'American': 90, 'Indian': 80}, 'Mango': 100, 'Apple': 200, 'Guava': 40}\n",
      "100\n"
     ]
    }
   ],
   "source": [
    "# Dictionaries in Python\n",
    "# Collection of Data in form of Key - Value Pairs\n",
    "\n",
    "d = { }\n",
    "prices = {\n",
    "        \"Mango\":100,\n",
    "        \"Apple\":200,\n",
    "        \"Guava\":40,\n",
    "        \"Banana\":[20,40],\n",
    "        \"Kiwi\" : { \"Indian\":80,\"American\":90 }\n",
    "    }\n",
    "\n",
    "print prices\n",
    "print prices[\"Mango\"]\n"
   ]
  },
  {
   "cell_type": "code",
   "execution_count": 82,
   "metadata": {},
   "outputs": [
    {
     "name": "stdout",
     "output_type": "stream",
     "text": [
      "{'American': 90, 'Indian': 80}\n",
      "<type 'dict'>\n",
      "<type 'dict'>\n",
      "80\n"
     ]
    }
   ],
   "source": [
    "print prices[\"Kiwi\"]\n",
    "print type(prices)\n",
    "print type(prices[\"Kiwi\"])\n",
    "print prices[\"Kiwi\"][\"Indian\"]"
   ]
  },
  {
   "cell_type": "code",
   "execution_count": 84,
   "metadata": {},
   "outputs": [
    {
     "name": "stdout",
     "output_type": "stream",
     "text": [
      "['Banana', 'Kiwi', 'Mango', 'Apple', 'Guava']\n",
      "[[20, 40], {'American': 90, 'Indian': 80}, 100, 200, 40]\n"
     ]
    }
   ],
   "source": [
    "# Keys and Values\n",
    "print prices.keys()\n",
    "print prices.values()\n"
   ]
  },
  {
   "cell_type": "code",
   "execution_count": 122,
   "metadata": {},
   "outputs": [
    {
     "name": "stdout",
     "output_type": "stream",
     "text": [
      "['Apple', 'Banana', 'Guava', 'Mango', 'Papaya']\n",
      "['Apple', 'Banana', 'Papaya', 'Guava', 'Mango']\n",
      "Apple Rs. 100\n",
      "Banana Rs. 90\n",
      "Papaya Rs. 70\n",
      "Guava Rs. 50\n",
      "Mango Rs. 20\n"
     ]
    }
   ],
   "source": [
    "d = {\n",
    "    \"Apple\" : 100,\n",
    "    \"Mango\" : 20,\n",
    "    \"Guava\" :50,\n",
    "    \"Papaya\":70,\n",
    "    \"Banana\":90,\n",
    "}\n",
    "\n",
    "print(sorted(d))\n",
    "\n",
    "#Lambda Functions\n",
    "price_values = sorted(d,reverse=True,key = lambda x:d[x])\n",
    "print price_values\n",
    "\n",
    "for fruit in price_values:\n",
    "    print fruit + \" Rs. \" + str(d[fruit])\n",
    "    \n",
    "\n",
    "    "
   ]
  },
  {
   "cell_type": "code",
   "execution_count": 123,
   "metadata": {},
   "outputs": [
    {
     "name": "stdout",
     "output_type": "stream",
     "text": [
      "1\n",
      "4\n",
      "9\n",
      "16\n",
      "25\n",
      "36\n",
      "49\n",
      "64\n",
      "81\n",
      "100\n",
      "Loop ends\n"
     ]
    }
   ],
   "source": [
    "# More On Loops \n",
    "#While Loop\n",
    "    \n",
    "i = 1\n",
    "while(i<=10):\n",
    "    print i*i\n",
    "    i = i + 1\n",
    "    \n",
    "print(\"Loop ends\")\n"
   ]
  },
  {
   "cell_type": "code",
   "execution_count": 129,
   "metadata": {},
   "outputs": [
    {
     "name": "stdout",
     "output_type": "stream",
     "text": [
      "2\n",
      "4\n",
      "6\n",
      "8\n",
      "10\n",
      "8\n",
      "6\n",
      "4\n"
     ]
    }
   ],
   "source": [
    "# Range Function\n",
    "#range(s,e,jump)\n",
    "\n",
    "#print(range(10))\n",
    "#print(range(2,10))\n",
    "#print(range(3,15,5))\n",
    "\n",
    "\n",
    "# Range in Python 3\n",
    "for i in range(2,10,2):\n",
    "    print i\n",
    "\n",
    "for i in range(10,2,-2):\n",
    "    print i"
   ]
  },
  {
   "cell_type": "code",
   "execution_count": 130,
   "metadata": {},
   "outputs": [
    {
     "name": "stdout",
     "output_type": "stream",
     "text": [
      "1\n",
      "2\n",
      "Fizz\n",
      "4\n",
      "Buzz\n",
      "Fizz\n",
      "7\n",
      "8\n",
      "Fizz\n",
      "Buzz\n",
      "11\n",
      "Fizz\n",
      "13\n",
      "14\n",
      "FizzBuzz\n",
      "16\n",
      "17\n",
      "Fizz\n",
      "19\n",
      "Buzz\n",
      "Fizz\n",
      "22\n",
      "23\n",
      "Fizz\n",
      "Buzz\n",
      "26\n",
      "Fizz\n",
      "28\n",
      "29\n",
      "FizzBuzz\n"
     ]
    }
   ],
   "source": [
    "# Write a Fizz-Buzz Program\n",
    "# 3 - Fizz, 5 - Buzz, 3&5 - FizzBuzz\n",
    "\n",
    "for i in range(1,31):\n",
    "    if i%3==0:\n",
    "        if i%5==0:\n",
    "            print \"FizzBuzz\"\n",
    "        else:\n",
    "            print \"Fizz\"\n",
    "    elif i%5==0:\n",
    "        print \"Buzz\"\n",
    "    else:\n",
    "        print i\n",
    "\n",
    "        \n",
    "\n"
   ]
  },
  {
   "cell_type": "code",
   "execution_count": 132,
   "metadata": {},
   "outputs": [
    {
     "name": "stdout",
     "output_type": "stream",
     "text": [
      "720\n",
      "93326215443944152681699238856266700490715968264381621468592963895217599993229915608941463976156518286253697920827223758251185210916864000000000000000000000000\n"
     ]
    }
   ],
   "source": [
    "# Functions\n",
    "\n",
    "def factorial(n):\n",
    "    ans = 1\n",
    "    for i in range(1,n+1):\n",
    "        ans  *= i\n",
    "\n",
    "    return ans\n",
    "\n",
    "print factorial(6)\n",
    "print factorial(100)\n",
    "\n"
   ]
  },
  {
   "cell_type": "code",
   "execution_count": 137,
   "metadata": {},
   "outputs": [
    {
     "data": {
      "text/plain": [
       "8"
      ]
     },
     "execution_count": 137,
     "metadata": {},
     "output_type": "execute_result"
    }
   ],
   "source": [
    "# Recursive Function\n",
    "\n",
    "def fib(n):\n",
    "    # if n==0 or n==1:\n",
    "    if n in [0,1]:\n",
    "        return n\n",
    "    return fib(n-1) + fib(n-2)\n",
    "\n",
    "fib(6)\n"
   ]
  },
  {
   "cell_type": "code",
   "execution_count": 139,
   "metadata": {},
   "outputs": [
    {
     "name": "stdout",
     "output_type": "stream",
     "text": [
      "False\n"
     ]
    }
   ],
   "source": [
    "# Linear Search using IN\n",
    "\n",
    "def exists(n,l):\n",
    "    if n in l:\n",
    "        return True\n",
    "    else:\n",
    "        return False\n",
    "\n",
    "n = 80\n",
    "l = [1,2,3,6,7,8]\n",
    "\n",
    "print exists(n,l) \n",
    "    \n"
   ]
  },
  {
   "cell_type": "code",
   "execution_count": 158,
   "metadata": {},
   "outputs": [
    {
     "name": "stdout",
     "output_type": "stream",
     "text": [
      "Having Fun\n",
      "5\n",
      "3\n",
      "2\n",
      "22\n",
      "5\n",
      "40\n"
     ]
    }
   ],
   "source": [
    "# Paramenter Passing & Return Values in Functions\n",
    "\n",
    "def fun():\n",
    "    print \"Having Fun\"\n",
    "    return 5\n",
    "\n",
    "print fun()\n",
    "\n",
    "#Default Paramters\n",
    "def funtoo(a=2,b=1):\n",
    "    return a+b\n",
    "\n",
    "print funtoo()\n",
    "print funtoo(1)\n",
    "print funtoo(10,12)\n",
    "print funtoo(b=3)\n",
    "print funtoo(b=10,a=30)\n",
    "\n",
    "\n",
    "\n"
   ]
  },
  {
   "cell_type": "code",
   "execution_count": 187,
   "metadata": {},
   "outputs": [
    {
     "name": "stdout",
     "output_type": "stream",
     "text": [
      "(4, 5, 6, 7)\n",
      "7\n",
      "28\n",
      "10\n",
      "20\n",
      "(30, 40)\n",
      "{'Mango': 90, 'Apple': [10, 20], 'Banana': 20}\n"
     ]
    }
   ],
   "source": [
    "# args, kwargs\n",
    "#args all the remaining named unnamed parameters\n",
    "# Positional Arguments CANT FOLLOW Named Arguments\n",
    "\n",
    "def sumOfNumbers(a,b=0,c=0,*args):\n",
    "    print args\n",
    "    print max(args)\n",
    "    return a + b + c + sum(args)\n",
    "\n",
    "print sumOfNumbers(1,2,3,4,5,6,7)\n",
    "\n",
    "def fruitFun(a,b,*args,**kwargs):\n",
    "    \n",
    "    print a\n",
    "    print b\n",
    "    print args\n",
    "    print kwargs\n",
    "    \n",
    "fruitFun(10,20,30,40,Mango=90,Apple=[10,20],Banana=20)"
   ]
  },
  {
   "cell_type": "code",
   "execution_count": 199,
   "metadata": {},
   "outputs": [
    {
     "data": {
      "text/plain": [
       "45"
      ]
     },
     "execution_count": 199,
     "metadata": {},
     "output_type": "execute_result"
    }
   ],
   "source": [
    "# Another Example\n",
    "\n",
    "def test(a,b,c,d,*args):\n",
    "    return a+b+c+d\n",
    "\n",
    "test(10,2,3,d=30)\n",
    "    "
   ]
  },
  {
   "cell_type": "code",
   "execution_count": 201,
   "metadata": {},
   "outputs": [
    {
     "name": "stdout",
     "output_type": "stream",
     "text": [
      "81230960\n",
      "81230960\n",
      "81231200\n",
      "81231200\n",
      "101075708\n",
      "101075108\n"
     ]
    }
   ],
   "source": [
    "# ID of Variable\n",
    "# Memory Behaviour changes as number >256\n",
    "\n",
    "a = 20\n",
    "b = 21\n",
    "\n",
    "a += 1\n",
    "print id(a)\n",
    "print id(b)\n",
    "\n",
    "c = 1\n",
    "print id(c)\n",
    "print id(1)\n",
    "\n",
    "b = 1024\n",
    "a = 2**10\n",
    "print id(a)\n",
    "print id(b)\n"
   ]
  },
  {
   "cell_type": "code",
   "execution_count": 205,
   "metadata": {},
   "outputs": [
    {
     "name": "stdout",
     "output_type": "stream",
     "text": [
      "3.16227766017\n"
     ]
    }
   ],
   "source": [
    "# Packages and Imports\n",
    "import math\n",
    "\n",
    "print math.sqrt(10)\n",
    "\n",
    "print math.log?"
   ]
  },
  {
   "cell_type": "code",
   "execution_count": 212,
   "metadata": {},
   "outputs": [
    {
     "name": "stdout",
     "output_type": "stream",
     "text": [
      "1.0\n",
      "6.0\n",
      "2.30258509299\n"
     ]
    }
   ],
   "source": [
    "#Base 10\n",
    "print math.log10(10)\n",
    "\n",
    "#Base 2\n",
    "print math.log(64,2)\n",
    "\n",
    "#Base e\n",
    "print math.log(10)\n",
    "\n",
    "#print math.log?"
   ]
  },
  {
   "cell_type": "code",
   "execution_count": 217,
   "metadata": {},
   "outputs": [
    {
     "data": {
      "text/plain": [
       "'\\n    this function returns the sum of 2 numbers\\n    '"
      ]
     },
     "execution_count": 217,
     "metadata": {},
     "output_type": "execute_result"
    }
   ],
   "source": [
    "# Creating doc string for documentation\n",
    "def suma(a, b):\n",
    "    \"\"\"\n",
    "    this function returns the sum of 2 numbers\n",
    "    \"\"\"\n",
    "    return a+b\n",
    "suma?\n",
    "suma.__doc__"
   ]
  },
  {
   "cell_type": "code",
   "execution_count": 215,
   "metadata": {},
   "outputs": [
    {
     "data": {
      "text/plain": [
       "3"
      ]
     },
     "execution_count": 215,
     "metadata": {},
     "output_type": "execute_result"
    }
   ],
   "source": [
    "suma(1, 2)"
   ]
  },
  {
   "cell_type": "code",
   "execution_count": 220,
   "metadata": {},
   "outputs": [
    {
     "data": {
      "text/plain": [
       "3.1622776601683795"
      ]
     },
     "execution_count": 220,
     "metadata": {},
     "output_type": "execute_result"
    }
   ],
   "source": [
    "from math import sqrt\n",
    "\n",
    "sqrt(10)"
   ]
  },
  {
   "cell_type": "code",
   "execution_count": 223,
   "metadata": {},
   "outputs": [
    {
     "data": {
      "text/plain": [
       "3.1622776601683795"
      ]
     },
     "execution_count": 223,
     "metadata": {},
     "output_type": "execute_result"
    }
   ],
   "source": [
    "from math import sqrt as sq\n",
    "\n",
    "sq(10)"
   ]
  },
  {
   "cell_type": "code",
   "execution_count": 224,
   "metadata": {},
   "outputs": [
    {
     "data": {
      "text/plain": [
       "3.1622776601683795"
      ]
     },
     "execution_count": 224,
     "metadata": {},
     "output_type": "execute_result"
    }
   ],
   "source": [
    "from math import *\n",
    "\n",
    "sqrt(10)"
   ]
  },
  {
   "cell_type": "code",
   "execution_count": 232,
   "metadata": {},
   "outputs": [
    {
     "name": "stdout",
     "output_type": "stream",
     "text": [
      "GoldenRetriever\n",
      "40\n",
      "10\n",
      "20\n"
     ]
    }
   ],
   "source": [
    "# Classes and Objects\n",
    "\n",
    "class Dog():\n",
    "    height = 20\n",
    "    \n",
    "    def __init__(self,n=\"\"):\n",
    "        self.color = \"Black\"\n",
    "        self.weight = 10\n",
    "        self.name = n\n",
    "        \n",
    "    \n",
    "    def changeColor(self,c):\n",
    "        self.color = c\n",
    "    def show(self):\n",
    "        print(self.name)\n",
    "        print(self.color)\n",
    "        print(self.weight)\n",
    "        \n",
    "    \n",
    "\n",
    "d = Dog(\"GoldenRetriever\")\n",
    "d.changeColor(\"Golden\")\n",
    "d.show()\n",
    "print d.height\n",
    "\n"
   ]
  }
 ],
 "metadata": {
  "kernelspec": {
   "display_name": "Python 2",
   "language": "python",
   "name": "python2"
  },
  "language_info": {
   "codemirror_mode": {
    "name": "ipython",
    "version": 2
   },
   "file_extension": ".py",
   "mimetype": "text/x-python",
   "name": "python",
   "nbconvert_exporter": "python",
   "pygments_lexer": "ipython2",
   "version": "2.7.14"
  }
 },
 "nbformat": 4,
 "nbformat_minor": 2
}
