{
 "cells": [
  {
   "cell_type": "markdown",
   "metadata": {},
   "source": [
    "# <center>Intermediate Python (Part-6)</center>"
   ]
  },
  {
   "cell_type": "markdown",
   "metadata": {},
   "source": [
    "# ***<center>CLI programming</center>***\n",
    "\n",
    "![](https://memegenerator.net/img/instances/500x/55561176/yo-dawg-i-heard-you-like-commands-so-i-built-you-a-command-line-interface-so-you-can-command-your-co.jpg)"
   ]
  },
  {
   "cell_type": "markdown",
   "metadata": {},
   "source": [
    ">A command-line interface or command language interpreter (CLI), also known as command-line user interface, console user interface, and character user interface (CUI), is a means of interacting with a computer program where the user (or client) issues commands to the program in the form of successive lines of text (command lines).\n",
    "\n",
    "### Advantages of CLI:\n",
    "- Requires fewer resources\n",
    "- Concise and powerful\n",
    "- Expert-friendly\n",
    "- Easier to automate via scripting\n",
    "\n",
    "### Why to use CLI in your python program?\n",
    "\n",
    "- Having even just a very basic command-line interface (CLI) for your program can make everyone’s life easier for modifying parameters, including programmers, but also non-programmers.\n",
    "\n",
    "\n",
    "- A CLI for your program can also make it easier to automate running and modifying variables within your program, for when you want to run your program with a cronjob or maybe an os.system call.\n",
    "\n",
    "\n",
    "We will be making our \"TEXT FILE MANAGER\".\n",
    "\n",
    "Here, we will be using a built-in python library called **Argparse**.\n",
    "\n",
    "About Argparse:\n",
    "\n",
    "- It makes it easy to write user-friendly command-line interfaces.\n",
    "- The program defines what arguments it requires, and argparse will figure out how to parse those out of sys.argv.\n",
    "- The argparse module also automatically generates help and usage messages and issues errors when users give the program invalid arguments."
   ]
  },
  {
   "cell_type": "markdown",
   "metadata": {},
   "source": [
    "![](http://s2.quickmeme.com/img/f2/f247b7471c53a81e455dae55c159e3056792ff369baa4652620085442aad4b05.jpg)"
   ]
  }
 ],
 "metadata": {
  "kernelspec": {
   "display_name": "Python 3",
   "language": "python",
   "name": "python3"
  },
  "language_info": {
   "codemirror_mode": {
    "name": "ipython",
    "version": 3
   },
   "file_extension": ".py",
   "mimetype": "text/x-python",
   "name": "python",
   "nbconvert_exporter": "python",
   "pygments_lexer": "ipython3",
   "version": "3.6.3"
  }
 },
 "nbformat": 4,
 "nbformat_minor": 2
}
