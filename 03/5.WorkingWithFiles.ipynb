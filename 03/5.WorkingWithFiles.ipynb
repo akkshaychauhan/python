{
 "cells": [
  {
   "cell_type": "markdown",
   "metadata": {},
   "source": [
    "# <center>Intermediate Python (Part-5)</center>"
   ]
  },
  {
   "cell_type": "markdown",
   "metadata": {},
   "source": [
    "# ***<center>Working with Files</center>***\n",
    "\n",
    "<img src=https://img.memecdn.com/dat-file_o_200764.jpg height=300 width=300>"
   ]
  },
  {
   "cell_type": "markdown",
   "metadata": {},
   "source": [
    "## File Access Modes\n",
    "\n",
    ">Access modes govern the type of operations possible in the opened file. It refers to how the file will be used once its opened. These modes also define the location of the File Handle in the file. File handle is like a cursor, which defines from where the data has to be read or written in the file. There are 6 access modes in python.\n",
    "\n",
    "- **Read Only (‘r’)** : Open text file for reading. The handle is positioned at the beginning of the file. If the file does not exists, raises I/O error. This is also the default mode in which file is opened.\n",
    "\n",
    "\n",
    "- **Read and Write (‘r+’)** : Open the file for reading and writing. The handle is positioned at the beginning of the file. Raises I/O error if the file does not exists.\n",
    "\n",
    "\n",
    "- **Write Only (‘w’)** : Open the file for writing. For existing file, the data is truncated and over-written. The handle is positioned at the beginning of the file. Creates the file if the file does not exists.\n",
    "\n",
    "\n",
    "- **Write and Read (‘w+’)** : Open the file for reading and writing. For existing file, data is truncated and over-written. The handle is positioned at the beginning of the file.\n",
    "\n",
    "\n",
    "- **Append Only (‘a’)** : Open the file for writing. The file is created if it does not exist. The handle is positioned at the end of the file. The data being written will be inserted at the end, after the existing data.\n",
    "\n",
    "\n",
    "- **Append and Read (‘a+’)** : Open the file for reading and writing. The file is created if it does not exist. The handle is positioned at the end of the file. The data being written will be inserted at the end, after the existing data."
   ]
  },
  {
   "cell_type": "markdown",
   "metadata": {},
   "source": [
    "## 1. Text files"
   ]
  },
  {
   "cell_type": "markdown",
   "metadata": {},
   "source": [
    "### Opening a file"
   ]
  },
  {
   "cell_type": "code",
   "execution_count": 2,
   "metadata": {},
   "outputs": [],
   "source": [
    "f = open(\"resources/a.txt\", \"r\")"
   ]
  },
  {
   "cell_type": "markdown",
   "metadata": {},
   "source": [
    "### Closing a file\n",
    "\n",
    "<img src=https://memegenerator.net/img/instances/500x/58748422/if-you-could-just-close-that-file-thatd-be-great-emm-kay.jpg height=400 width=400>"
   ]
  },
  {
   "cell_type": "code",
   "execution_count": 3,
   "metadata": {},
   "outputs": [],
   "source": [
    "f.close()"
   ]
  },
  {
   "cell_type": "markdown",
   "metadata": {},
   "source": [
    "### Writing to a file\n",
    "\n",
    "- write\n",
    "- writelines"
   ]
  },
  {
   "cell_type": "code",
   "execution_count": 9,
   "metadata": {},
   "outputs": [],
   "source": [
    "f = open(\"resources/a.txt\", \"w\")"
   ]
  },
  {
   "cell_type": "code",
   "execution_count": 5,
   "metadata": {},
   "outputs": [
    {
     "data": {
      "text/plain": [
       "5"
      ]
     },
     "execution_count": 5,
     "metadata": {},
     "output_type": "execute_result"
    }
   ],
   "source": [
    "f.write(\"Hello\")"
   ]
  },
  {
   "cell_type": "code",
   "execution_count": 11,
   "metadata": {},
   "outputs": [],
   "source": [
    "f.close()"
   ]
  },
  {
   "cell_type": "code",
   "execution_count": 12,
   "metadata": {},
   "outputs": [],
   "source": [
    "lines = [\"dkjsfkdsjg\\n\", \"hfdsjhdj\\n\", \"useless\\n\"]"
   ]
  },
  {
   "cell_type": "code",
   "execution_count": 13,
   "metadata": {},
   "outputs": [
    {
     "ename": "ValueError",
     "evalue": "I/O operation on closed file.",
     "output_type": "error",
     "traceback": [
      "\u001b[0;31m---------------------------------------------------------------------------\u001b[0m",
      "\u001b[0;31mValueError\u001b[0m                                Traceback (most recent call last)",
      "\u001b[0;32m<ipython-input-13-f5c0fcc00299>\u001b[0m in \u001b[0;36m<module>\u001b[0;34m()\u001b[0m\n\u001b[0;32m----> 1\u001b[0;31m \u001b[0mf\u001b[0m\u001b[0;34m.\u001b[0m\u001b[0mwritelines\u001b[0m\u001b[0;34m(\u001b[0m\u001b[0mlines\u001b[0m\u001b[0;34m)\u001b[0m\u001b[0;34m\u001b[0m\u001b[0m\n\u001b[0m",
      "\u001b[0;31mValueError\u001b[0m: I/O operation on closed file."
     ]
    }
   ],
   "source": [
    "f.writelines(lines)"
   ]
  },
  {
   "cell_type": "code",
   "execution_count": 14,
   "metadata": {},
   "outputs": [],
   "source": [
    "with open(\"resources/a.txt\", \"w\") as f:\n",
    "    f.writelines(lines)"
   ]
  },
  {
   "cell_type": "markdown",
   "metadata": {},
   "source": [
    "### Reading from a file\n",
    "- read\n",
    "- readline\n",
    "- readlines"
   ]
  },
  {
   "cell_type": "code",
   "execution_count": 16,
   "metadata": {},
   "outputs": [
    {
     "name": "stdout",
     "output_type": "stream",
     "text": [
      "['dkjsfkdsjg\\n', 'hfdsjhdj\\n', 'useless\\n']\n"
     ]
    }
   ],
   "source": [
    "with open(\"resources/a.txt\", \"r\") as f:\n",
    "    print(f.readlines())"
   ]
  },
  {
   "cell_type": "markdown",
   "metadata": {},
   "source": [
    "### Moving the cursor\n",
    "\n",
    "- seek(n) : takes the file handle to the nth byte from the beginning."
   ]
  },
  {
   "cell_type": "code",
   "execution_count": null,
   "metadata": {},
   "outputs": [],
   "source": []
  },
  {
   "cell_type": "markdown",
   "metadata": {},
   "source": [
    "### Smarter way of opening files...\n",
    "\n",
    "With the \"with\" statement, you get better syntax and exceptions handling. \n",
    "\n",
    "\"The with statement simplifies exception handling by encapsulating common\n",
    "preparation and cleanup tasks.\"\n",
    "\n",
    "In addition, it will automatically close the file. The with statement provides\n",
    "a way for ensuring that a clean-up is always used.\n"
   ]
  },
  {
   "cell_type": "code",
   "execution_count": null,
   "metadata": {},
   "outputs": [],
   "source": []
  },
  {
   "cell_type": "markdown",
   "metadata": {},
   "source": [
    "## 2. JSON files\n",
    "\n",
    ">Javascript Object Notation abbreviated as JSON is a light-weight data interchange format. It Encode Python objects as JSON strings, and decode JSON strings into Python objects \n",
    "\n",
    "<img src=https://cosmic-s3.imgix.net/a36a7c70-4a9b-11e6-9c2d-9547cfa7474b-article-json-everywhere-meme.jpg?w=900 height=500 width=500>"
   ]
  },
  {
   "cell_type": "markdown",
   "metadata": {},
   "source": [
    "- **json.dump(obj, fileObj) :** Serializes obj as a JSON formatted stream to fileObj.\n",
    "- **json.dumps(obj) :** Serializes obj as JSON formatted string.\n",
    "- **json.load(JSONfile) :** De-serializes JSONfile to a Python object.\n",
    "- **json.loads(JSONfile) :** De-serializes JSONfile(type: string) to a Python object."
   ]
  },
  {
   "cell_type": "code",
   "execution_count": 21,
   "metadata": {},
   "outputs": [],
   "source": [
    "d = {\n",
    "    \"a\":[1,2,3],\n",
    "    1: True\n",
    "}"
   ]
  },
  {
   "cell_type": "code",
   "execution_count": 18,
   "metadata": {},
   "outputs": [],
   "source": [
    "import json"
   ]
  },
  {
   "cell_type": "code",
   "execution_count": 24,
   "metadata": {},
   "outputs": [],
   "source": [
    "with open(\"resources/a.json\", \"r\") as f:\n",
    "    dd = json.load(f)"
   ]
  },
  {
   "cell_type": "code",
   "execution_count": 25,
   "metadata": {},
   "outputs": [
    {
     "data": {
      "text/plain": [
       "{'1': True, 'a': [1, 2, 3]}"
      ]
     },
     "execution_count": 25,
     "metadata": {},
     "output_type": "execute_result"
    }
   ],
   "source": [
    "dd"
   ]
  },
  {
   "cell_type": "markdown",
   "metadata": {},
   "source": [
    "## 3. XML files\n",
    "\n",
    "<img src=http://i.imgur.com/frZZbAQ.jpg height=300 width=300>\n",
    "\n",
    ">XML stands for eXtensible Markup Language. It was designed to store and transport data. It was designed to be both human- and machine-readable.That’s why, the design goals of XML emphasize simplicity, generality, and usability across the Internet.\n",
    "\n",
    "```python\n",
    "import xml.etree.ElementTree as ET\n",
    "```"
   ]
  },
  {
   "cell_type": "code",
   "execution_count": 27,
   "metadata": {},
   "outputs": [],
   "source": [
    "import xml.etree.ElementTree as ET"
   ]
  },
  {
   "cell_type": "markdown",
   "metadata": {},
   "source": [
    ">Here, we are using xml.etree.ElementTree (call it ET, in short) module. Element Tree has two classes – **ElementTree** represents the whole XML document as a tree, and **Element** represents a single node in this tree. Interactions with the whole document (reading and writing to/from files) are usually done on the ElementTree level. Interactions with a single XML element and its sub-elements are done on the Element level."
   ]
  },
  {
   "cell_type": "code",
   "execution_count": 30,
   "metadata": {},
   "outputs": [],
   "source": [
    "# create element tree object\n",
    "tree = ET.parse(\"resources/rssfeed.xml\")"
   ]
  },
  {
   "cell_type": "code",
   "execution_count": 31,
   "metadata": {},
   "outputs": [],
   "source": [
    "# get root element\n",
    "root = tree.getroot()"
   ]
  },
  {
   "cell_type": "code",
   "execution_count": 32,
   "metadata": {},
   "outputs": [],
   "source": [
    "# create empty list for news items\n",
    "newsitems = []"
   ]
  },
  {
   "cell_type": "markdown",
   "metadata": {},
   "source": [
    "### XPATH\n",
    ">./channel/item is actually XPath syntax (XPath is a language for addressing parts of an XML document). Here, we want to find all item grand-children of channel children of the root(denoted by ‘.’) element.\n",
    "\n",
    "![](https://indianpythonista.files.wordpress.com/2017/01/1.gif)"
   ]
  },
  {
   "cell_type": "code",
   "execution_count": 33,
   "metadata": {},
   "outputs": [],
   "source": [
    "# iterate news items\n",
    "for item in root.findall('./channel/item'):\n",
    "    # empty news dictionary\n",
    "    news = {}\n",
    "\n",
    "    # iterate child elements of item\n",
    "    for child in item:\n",
    "        if child.tag == \"media\":\n",
    "            news[child.tag] = child.attrib['url']\n",
    "        else:\n",
    "            news[child.tag] = child.text.encode('utf8')\n",
    "            \n",
    "    # append news dictionary to news items list\n",
    "    newsitems.append(news)"
   ]
  },
  {
   "cell_type": "code",
   "execution_count": 35,
   "metadata": {
    "scrolled": false
   },
   "outputs": [
    {
     "data": {
      "text/plain": [
       "{'description': b'Rohit Sharma, India\\xe2\\x80\\x99s stand-in skipper, smashed a 35-ball century and KL Rahul hit his second fifty as the hosts beat Sri Lanka by 88 runs to seal the T20 series with a game to spare. ',\n",
       " 'guid': b'http://www.hindustantimes.com/india-vs-sri-lanka-2017/india-vs-sri-lanka-second-twenty20-international-indore/story-43nLWdrdbipwYMWMPseU6J.html',\n",
       " 'link': b'http://www.hindustantimes.com/india-vs-sri-lanka-2017/india-vs-sri-lanka-second-twenty20-international-indore/story-43nLWdrdbipwYMWMPseU6J.html',\n",
       " 'media': 'http://www.hindustantimes.com/rf/image_size_630x354/HT/p2/2017/12/22/Pictures/cricket-india-indore-2017-lanka-2nd-t20i_39c32520-e742-11e7-bb33-29502a427e3f.JPG',\n",
       " 'pubDate': b'Fri, 22 Dec 2017 06:15:46 GMT ',\n",
       " 'title': b'Rohit Sharma equals fastest T20 century, India sink Sri Lanka to clinch series'}"
      ]
     },
     "execution_count": 35,
     "metadata": {},
     "output_type": "execute_result"
    }
   ],
   "source": [
    "newsitems[0]"
   ]
  },
  {
   "cell_type": "markdown",
   "metadata": {},
   "source": [
    "## JSON vs XML\n",
    "\n",
    "<img src=http://s2.quickmeme.com/img/37/378dc176eed7cbd89f077b3d3b065f4ac6ea9815dad3fbf71cfa94a9c92d5e93.jpg height=400 width=400>\n",
    "\n",
    "Both JSON and XML can be used to receive data from a web server.\n",
    "\n",
    "### JSON is Like XML Because\n",
    "- Both JSON and XML are \"self describing\" (human readable)\n",
    "- Both JSON and XML are hierarchical (values within values)\n",
    "- Both JSON and XML can be parsed and used by lots of programming languages\n",
    "\n",
    "### JSON is Unlike XML Because\n",
    "- JSON doesn't use end tag\n",
    "- JSON is shorter\n",
    "- JSON is quicker to read and write\n",
    "- JSON can use arrays\n",
    "\n",
    "### Why JSON is Better Than XML\n",
    "\n",
    "- XML is much more difficult to parse than JSON.\n",
    "- JSON is parsed into a ready-to-use JavaScript object. (and JS objects can be easily converted to Python objects!)\n",
    "\n",
    "<img src=https://memegenerator.net/img/instances/400x/45187234.jpg height=300 width=300>"
   ]
  },
  {
   "cell_type": "markdown",
   "metadata": {},
   "source": [
    "## 4. CSV files\n",
    "\n",
    "<img src=https://cdn-images-1.medium.com/max/1600/1*4Z2oMWCTiY-wxa3F9NaIAQ.png height=300 width=300>\n",
    "\n",
    "> CSV (Comma Separated Values) is a simple file format used to store tabular data, such as a spreadsheet or database. A CSV file stores tabular data (numbers and text) in plain text. Each line of the file is a data record. Each record consists of one or more fields, separated by commas. The use of the comma as a field separator is the source of the name for this file format.\n",
    "\n",
    "For working CSV files in python, there is an inbuilt module called csv."
   ]
  },
  {
   "cell_type": "markdown",
   "metadata": {},
   "source": [
    "### Reading a CSV file\n",
    "\n",
    "To read csv file, the file object is converted to csv.reader object.\n"
   ]
  },
  {
   "cell_type": "code",
   "execution_count": 36,
   "metadata": {},
   "outputs": [],
   "source": [
    "import csv"
   ]
  },
  {
   "cell_type": "code",
   "execution_count": 37,
   "metadata": {},
   "outputs": [],
   "source": [
    "rows = []"
   ]
  },
  {
   "cell_type": "code",
   "execution_count": 38,
   "metadata": {},
   "outputs": [],
   "source": [
    "# reading csv file\n",
    "with open(\"resources/aapl.csv\", 'r') as csvfile:\n",
    "    # creating a csv reader object\n",
    "    csvreader = csv.reader(csvfile)\n",
    "     \n",
    "    # extracting field names through first row\n",
    "    fields = next(csvreader)\n",
    " \n",
    "    # extracting each data row one by one\n",
    "    for row in csvreader:\n",
    "        rows.append(row)"
   ]
  },
  {
   "cell_type": "code",
   "execution_count": 40,
   "metadata": {},
   "outputs": [
    {
     "data": {
      "text/plain": [
       "['Date', 'Open', 'High', 'Low', 'Close', 'Volume']"
      ]
     },
     "execution_count": 40,
     "metadata": {},
     "output_type": "execute_result"
    }
   ],
   "source": [
    "fields"
   ]
  },
  {
   "cell_type": "code",
   "execution_count": 39,
   "metadata": {},
   "outputs": [
    {
     "data": {
      "text/plain": [
       "[['7-Dec-16', '109.26', '111.19', '109.16', '111.03', '29998719'],\n",
       " ['6-Dec-16', '109.50', '110.36', '109.19', '109.95', '26195462'],\n",
       " ['5-Dec-16', '110.00', '110.03', '108.25', '109.11', '34324540'],\n",
       " ['2-Dec-16', '109.17', '110.09', '108.85', '109.90', '26527997'],\n",
       " ['1-Dec-16', '110.36', '110.94', '109.03', '109.49', '37086862'],\n",
       " ['30-Nov-16', '111.60', '112.20', '110.27', '110.52', '36162258'],\n",
       " ['29-Nov-16', '110.78', '112.03', '110.07', '111.46', '28528750'],\n",
       " ['28-Nov-16', '111.43', '112.46', '111.39', '111.57', '27193983'],\n",
       " ['25-Nov-16', '111.47', '111.87', '110.95', '111.79', '11475922'],\n",
       " ['23-Nov-16', '111.36', '111.51', '110.33', '111.23', '27426394'],\n",
       " ['22-Nov-16', '111.95', '112.42', '111.40', '111.80', '25965534'],\n",
       " ['21-Nov-16', '110.12', '111.99', '110.01', '111.73', '29264571'],\n",
       " ['18-Nov-16', '109.72', '110.54', '109.66', '110.06', '28428917'],\n",
       " ['17-Nov-16', '109.81', '110.35', '108.83', '109.95', '26964598'],\n",
       " ['16-Nov-16', '106.70', '110.23', '106.60', '109.99', '58840522'],\n",
       " ['15-Nov-16', '106.57', '107.68', '106.16', '107.11', '32264510'],\n",
       " ['14-Nov-16', '107.71', '107.81', '104.08', '105.71', '51175504'],\n",
       " ['11-Nov-16', '107.12', '108.87', '106.55', '108.43', '34143898'],\n",
       " ['10-Nov-16', '111.09', '111.09', '105.83', '107.79', '57134541'],\n",
       " ['9-Nov-16', '109.88', '111.32', '108.05', '110.88', '59176361'],\n",
       " ['8-Nov-16', '110.31', '111.72', '109.70', '111.06', '24254179'],\n",
       " ['7-Nov-16', '110.08', '110.51', '109.46', '110.41', '32560000'],\n",
       " ['4-Nov-16', '108.53', '110.25', '108.11', '108.84', '30836997'],\n",
       " ['3-Nov-16', '110.98', '111.46', '109.55', '109.83', '26932602'],\n",
       " ['2-Nov-16', '111.40', '112.35', '111.23', '111.59', '28331709'],\n",
       " ['1-Nov-16', '113.46', '113.77', '110.53', '111.49', '43825812'],\n",
       " ['31-Oct-16', '113.65', '114.23', '113.20', '113.54', '26419398'],\n",
       " ['28-Oct-16', '113.87', '115.21', '113.45', '113.72', '37861662'],\n",
       " ['27-Oct-16', '115.39', '115.86', '114.10', '114.48', '34562045'],\n",
       " ['26-Oct-16', '114.31', '115.70', '113.31', '115.59', '66134219'],\n",
       " ['25-Oct-16', '117.95', '118.36', '117.31', '118.25', '48128970'],\n",
       " ['24-Oct-16', '117.10', '117.74', '117.00', '117.65', '23538673'],\n",
       " ['21-Oct-16', '116.81', '116.91', '116.28', '116.60', '23192665'],\n",
       " ['20-Oct-16', '116.86', '117.38', '116.33', '117.06', '24125801'],\n",
       " ['19-Oct-16', '117.25', '117.76', '113.80', '117.12', '20034594'],\n",
       " ['18-Oct-16', '118.18', '118.21', '117.45', '117.47', '24553478'],\n",
       " ['17-Oct-16', '117.33', '117.84', '116.78', '117.55', '23624896'],\n",
       " ['14-Oct-16', '117.88', '118.17', '117.13', '117.63', '35652191'],\n",
       " ['13-Oct-16', '116.79', '117.44', '115.72', '116.98', '35192406'],\n",
       " ['12-Oct-16', '117.35', '117.98', '116.75', '117.34', '37586787'],\n",
       " ['11-Oct-16', '117.70', '118.69', '116.20', '116.30', '64041043'],\n",
       " ['10-Oct-16', '115.02', '116.75', '114.72', '116.05', '36235956'],\n",
       " ['7-Oct-16', '114.31', '114.56', '113.51', '114.06', '24358443'],\n",
       " ['6-Oct-16', '113.70', '114.34', '113.13', '113.89', '28779313'],\n",
       " ['5-Oct-16', '113.40', '113.66', '112.69', '113.05', '21453089'],\n",
       " ['4-Oct-16', '113.06', '114.31', '112.63', '113.00', '29736835'],\n",
       " ['3-Oct-16', '112.71', '113.05', '112.28', '112.52', '21701760'],\n",
       " ['30-Sep-16', '112.46', '113.37', '111.80', '113.05', '36379106'],\n",
       " ['29-Sep-16', '113.16', '113.80', '111.80', '112.18', '35886990'],\n",
       " ['28-Sep-16', '113.69', '114.64', '113.43', '113.95', '29641085'],\n",
       " ['27-Sep-16', '113.00', '113.18', '112.34', '113.09', '24607412'],\n",
       " ['26-Sep-16', '111.64', '113.39', '111.55', '112.88', '29869442'],\n",
       " ['23-Sep-16', '114.42', '114.79', '111.55', '112.71', '52481151'],\n",
       " ['22-Sep-16', '114.35', '114.94', '114.00', '114.62', '31073984'],\n",
       " ['21-Sep-16', '113.85', '113.99', '112.44', '113.55', '36003185'],\n",
       " ['20-Sep-16', '113.05', '114.12', '112.51', '113.57', '34514269'],\n",
       " ['19-Sep-16', '115.19', '116.18', '113.25', '113.58', '47023046'],\n",
       " ['16-Sep-16', '115.12', '116.13', '114.04', '114.92', '79886911'],\n",
       " ['15-Sep-16', '113.86', '115.73', '113.49', '115.57', '90613177'],\n",
       " ['14-Sep-16', '108.73', '113.03', '108.60', '111.77', '112340318'],\n",
       " ['13-Sep-16', '107.51', '108.79', '107.24', '107.95', '62176190'],\n",
       " ['12-Sep-16', '102.65', '105.72', '102.53', '105.44', '45292770'],\n",
       " ['9-Sep-16', '104.64', '105.72', '103.13', '103.13', '46556984'],\n",
       " ['8-Sep-16', '107.25', '107.27', '105.24', '105.52', '53002026'],\n",
       " ['7-Sep-16', '107.83', '108.76', '107.07', '108.36', '42364328'],\n",
       " ['6-Sep-16', '107.90', '108.30', '107.51', '107.70', '26880391'],\n",
       " ['2-Sep-16', '107.70', '108.00', '106.82', '107.73', '26334858'],\n",
       " ['1-Sep-16', '106.14', '106.80', '105.62', '106.73', '26701523'],\n",
       " ['31-Aug-16', '105.66', '106.57', '105.64', '106.10', '29662406'],\n",
       " ['30-Aug-16', '105.80', '106.50', '105.50', '106.00', '24863945'],\n",
       " ['29-Aug-16', '106.62', '107.44', '106.29', '106.82', '24970300'],\n",
       " ['26-Aug-16', '107.41', '107.95', '106.31', '106.94', '27766291'],\n",
       " ['25-Aug-16', '107.39', '107.88', '106.68', '107.57', '25086248'],\n",
       " ['24-Aug-16', '108.56', '108.75', '107.68', '108.03', '23675081'],\n",
       " ['23-Aug-16', '108.59', '109.32', '108.53', '108.85', '21257669'],\n",
       " ['22-Aug-16', '108.86', '109.10', '107.85', '108.51', '25820230'],\n",
       " ['19-Aug-16', '108.77', '109.69', '108.36', '109.36', '25368072'],\n",
       " ['18-Aug-16', '109.23', '109.60', '109.02', '109.08', '21984703'],\n",
       " ['17-Aug-16', '109.10', '109.37', '108.34', '109.22', '25355976'],\n",
       " ['16-Aug-16', '109.63', '110.23', '109.21', '109.38', '33794448'],\n",
       " ['15-Aug-16', '108.14', '109.54', '108.08', '109.48', '25868209'],\n",
       " ['12-Aug-16', '107.78', '108.44', '107.78', '108.18', '18660434'],\n",
       " ['11-Aug-16', '108.52', '108.93', '107.85', '107.93', '27484506'],\n",
       " ['10-Aug-16', '108.71', '108.90', '107.76', '108.00', '24008505'],\n",
       " ['9-Aug-16', '108.23', '108.94', '108.01', '108.81', '26315204'],\n",
       " ['8-Aug-16', '107.52', '108.37', '107.16', '108.37', '28037220'],\n",
       " ['5-Aug-16', '106.27', '107.65', '106.18', '107.48', '40553402'],\n",
       " ['4-Aug-16', '105.58', '106.00', '105.28', '105.87', '27408650'],\n",
       " ['3-Aug-16', '104.81', '105.84', '104.77', '105.79', '30202641'],\n",
       " ['2-Aug-16', '106.05', '106.07', '104.00', '104.48', '33816556'],\n",
       " ['1-Aug-16', '104.41', '106.15', '104.41', '106.05', '38167871'],\n",
       " ['29-Jul-16', '104.19', '104.55', '103.68', '104.21', '27733688'],\n",
       " ['28-Jul-16', '102.83', '104.45', '102.82', '104.34', '39869839'],\n",
       " ['27-Jul-16', '104.26', '104.35', '102.75', '102.95', '92344820'],\n",
       " ['26-Jul-16', '96.82', '97.97', '96.42', '96.67', '56239822'],\n",
       " ['25-Jul-16', '98.25', '98.84', '96.92', '97.34', '40382921'],\n",
       " ['22-Jul-16', '99.26', '99.30', '98.31', '98.66', '28313669'],\n",
       " ['21-Jul-16', '99.83', '101.00', '99.13', '99.43', '32702028'],\n",
       " ['20-Jul-16', '100.00', '100.46', '99.74', '99.96', '26275968'],\n",
       " ['19-Jul-16', '99.56', '100.00', '99.34', '99.87', '23779924'],\n",
       " ['18-Jul-16', '98.70', '100.13', '98.60', '99.83', '36493867'],\n",
       " ['15-Jul-16', '98.92', '99.30', '98.50', '98.78', '30136990'],\n",
       " ['14-Jul-16', '97.39', '98.99', '97.32', '98.79', '38918997'],\n",
       " ['13-Jul-16', '97.41', '97.67', '96.84', '96.87', '25892171'],\n",
       " ['12-Jul-16', '97.17', '97.70', '97.12', '97.42', '24167463'],\n",
       " ['11-Jul-16', '96.75', '97.65', '96.73', '96.98', '23794945'],\n",
       " ['8-Jul-16', '96.49', '96.89', '96.05', '96.68', '28912103'],\n",
       " ['7-Jul-16', '95.70', '96.50', '95.62', '95.94', '25139558'],\n",
       " ['6-Jul-16', '94.60', '95.66', '94.37', '95.53', '30949090'],\n",
       " ['5-Jul-16', '95.39', '95.40', '94.46', '94.99', '27705210'],\n",
       " ['1-Jul-16', '95.49', '96.46', '95.33', '95.89', '26026540'],\n",
       " ['30-Jun-16', '94.44', '95.77', '94.30', '95.60', '35836356'],\n",
       " ['29-Jun-16', '93.97', '94.55', '93.63', '94.40', '36531006'],\n",
       " ['28-Jun-16', '92.90', '93.66', '92.14', '93.59', '40444914'],\n",
       " ['27-Jun-16', '93.00', '93.05', '91.50', '92.04', '46622188'],\n",
       " ['24-Jun-16', '92.91', '94.66', '92.65', '93.40', '75311356'],\n",
       " ['23-Jun-16', '95.94', '96.29', '95.25', '96.10', '32240187'],\n",
       " ['22-Jun-16', '96.25', '96.89', '95.35', '95.55', '29219122'],\n",
       " ['21-Jun-16', '94.94', '96.35', '94.68', '95.91', '35546358'],\n",
       " ['20-Jun-16', '96.00', '96.57', '95.03', '95.10', '34411901'],\n",
       " ['17-Jun-16', '96.62', '96.65', '95.30', '95.33', '61008219'],\n",
       " ['16-Jun-16', '96.45', '97.75', '96.07', '97.55', '31326815'],\n",
       " ['15-Jun-16', '97.82', '98.41', '97.03', '97.14', '29445227'],\n",
       " ['14-Jun-16', '97.32', '98.48', '96.75', '97.46', '31931944'],\n",
       " ['13-Jun-16', '98.69', '99.12', '97.10', '97.34', '38020494'],\n",
       " ['10-Jun-16', '98.53', '99.35', '98.48', '98.83', '31712936'],\n",
       " ['9-Jun-16', '98.50', '99.99', '98.46', '99.65', '26601354'],\n",
       " ['8-Jun-16', '99.02', '99.56', '98.68', '98.94', '20848131'],\n",
       " ['7-Jun-16', '99.25', '99.87', '98.96', '99.03', '22409450'],\n",
       " ['6-Jun-16', '97.99', '101.89', '97.55', '98.63', '23292504'],\n",
       " ['3-Jun-16', '97.79', '98.27', '97.45', '97.92', '28504888'],\n",
       " ['2-Jun-16', '97.60', '97.84', '96.63', '97.72', '40191600'],\n",
       " ['1-Jun-16', '99.02', '99.54', '98.33', '98.46', '29173285'],\n",
       " ['31-May-16', '99.60', '100.40', '98.82', '99.86', '42307212'],\n",
       " ['27-May-16', '99.44', '100.47', '99.24', '100.35', '36229530'],\n",
       " ['26-May-16', '99.68', '100.73', '98.64', '100.41', '56093437'],\n",
       " ['25-May-16', '98.67', '99.74', '98.11', '99.62', '38168760'],\n",
       " ['24-May-16', '97.22', '98.09', '96.84', '97.90', '35036561'],\n",
       " ['23-May-16', '95.87', '97.19', '95.67', '96.43', '37860535'],\n",
       " ['20-May-16', '94.64', '95.43', '94.52', '95.22', '31804564'],\n",
       " ['19-May-16', '94.64', '94.64', '93.57', '94.20', '29693945'],\n",
       " ['18-May-16', '94.16', '95.21', '93.89', '94.56', '41923114'],\n",
       " ['17-May-16', '94.55', '94.70', '93.01', '93.49', '46507449'],\n",
       " ['16-May-16', '92.39', '94.39', '91.65', '93.88', '61140610'],\n",
       " ['13-May-16', '90.00', '91.67', '90.00', '90.52', '44188153'],\n",
       " ['12-May-16', '92.72', '92.78', '89.47', '90.34', '76109795'],\n",
       " ['11-May-16', '93.48', '93.57', '92.46', '92.51', '28539912'],\n",
       " ['10-May-16', '93.33', '93.57', '92.11', '93.42', '33592465'],\n",
       " ['9-May-16', '93.00', '93.77', '92.59', '92.79', '32855251'],\n",
       " ['6-May-16', '93.37', '93.45', '91.85', '92.72', '43458189'],\n",
       " ['5-May-16', '94.00', '94.07', '92.68', '93.24', '35763138'],\n",
       " ['4-May-16', '95.20', '95.90', '93.82', '94.19', '40824776'],\n",
       " ['3-May-16', '94.20', '95.74', '93.68', '95.18', '56533960'],\n",
       " ['2-May-16', '93.96', '94.08', '92.40', '93.64', '47736879'],\n",
       " ['29-Apr-16', '93.99', '94.72', '92.51', '93.74', '68334434'],\n",
       " ['28-Apr-16', '97.61', '97.88', '94.25', '94.83', '81990674'],\n",
       " ['27-Apr-16', '96.00', '98.71', '95.68', '97.82', '113538389'],\n",
       " ['26-Apr-16', '103.91', '105.30', '103.91', '104.35', '40338403'],\n",
       " ['25-Apr-16', '105.00', '105.65', '104.51', '105.08', '27950966'],\n",
       " ['22-Apr-16', '105.01', '106.48', '104.62', '105.68', '33477142'],\n",
       " ['21-Apr-16', '106.93', '106.93', '105.52', '105.97', '31356434'],\n",
       " ['20-Apr-16', '106.64', '108.09', '106.06', '107.13', '28666865'],\n",
       " ['19-Apr-16', '107.88', '108.00', '106.23', '106.91', '32292344'],\n",
       " ['18-Apr-16', '108.89', '108.95', '106.94', '107.48', '60834027'],\n",
       " ['15-Apr-16', '112.11', '112.30', '109.73', '109.85', '46418482'],\n",
       " ['14-Apr-16', '111.62', '112.39', '111.33', '112.10', '25337435'],\n",
       " ['13-Apr-16', '110.80', '112.34', '110.80', '112.04', '32691799'],\n",
       " ['12-Apr-16', '109.34', '110.50', '108.66', '110.44', '26812000'],\n",
       " ['11-Apr-16', '108.97', '110.61', '108.83', '109.02', '28313525'],\n",
       " ['8-Apr-16', '108.91', '109.77', '108.17', '108.66', '23514462'],\n",
       " ['7-Apr-16', '109.95', '110.42', '108.12', '108.54', '30881022'],\n",
       " ['6-Apr-16', '110.23', '110.98', '109.20', '110.96', '26047772'],\n",
       " ['5-Apr-16', '109.51', '110.73', '109.42', '109.81', '26495312'],\n",
       " ['4-Apr-16', '110.42', '112.19', '110.27', '111.12', '37243224'],\n",
       " ['1-Apr-16', '108.78', '110.00', '108.20', '109.99', '25626163'],\n",
       " ['31-Mar-16', '109.72', '109.90', '108.88', '108.99', '25685672'],\n",
       " ['30-Mar-16', '108.65', '110.42', '108.60', '109.56', '45159861'],\n",
       " ['29-Mar-16', '104.89', '107.79', '104.88', '107.68', '30774115'],\n",
       " ['28-Mar-16', '106.00', '106.19', '105.06', '105.19', '19303557'],\n",
       " ['24-Mar-16', '105.47', '106.25', '104.89', '105.67', '25480914'],\n",
       " ['23-Mar-16', '106.48', '107.07', '105.90', '106.13', '25452612'],\n",
       " ['22-Mar-16', '105.25', '107.29', '105.21', '106.72', '32232567'],\n",
       " ['21-Mar-16', '105.93', '107.65', '105.14', '105.91', '35180796'],\n",
       " ['18-Mar-16', '106.34', '106.50', '105.19', '105.92', '43402289'],\n",
       " ['17-Mar-16', '105.52', '106.47', '104.96', '105.80', '34244593'],\n",
       " ['16-Mar-16', '104.61', '106.31', '104.59', '105.97', '37893758'],\n",
       " ['15-Mar-16', '103.96', '105.18', '103.85', '104.58', '40067734'],\n",
       " ['14-Mar-16', '101.91', '102.91', '101.78', '102.52', '25027426'],\n",
       " ['11-Mar-16', '102.24', '102.28', '101.50', '102.26', '27200833'],\n",
       " ['10-Mar-16', '101.41', '102.24', '100.15', '101.17', '33513577'],\n",
       " ['9-Mar-16', '101.31', '101.58', '100.27', '101.12', '27130729'],\n",
       " ['8-Mar-16', '100.78', '101.76', '100.40', '101.03', '31274161'],\n",
       " ['7-Mar-16', '102.39', '102.83', '100.96', '101.87', '35828909'],\n",
       " ['4-Mar-16', '102.37', '103.75', '101.37', '103.01', '45936485'],\n",
       " ['3-Mar-16', '100.58', '101.71', '100.45', '101.50', '36792245'],\n",
       " ['2-Mar-16', '100.51', '100.89', '99.64', '100.75', '33084941'],\n",
       " ['1-Mar-16', '97.65', '100.77', '97.42', '100.53', '50153943'],\n",
       " ['29-Feb-16', '96.86', '98.23', '96.65', '96.69', '34876558'],\n",
       " ['26-Feb-16', '97.20', '98.02', '96.58', '96.91', '28913208'],\n",
       " ['25-Feb-16', '96.05', '96.76', '95.25', '96.76', '27393905'],\n",
       " ['24-Feb-16', '93.98', '96.38', '93.32', '96.10', '36155642'],\n",
       " ['23-Feb-16', '96.40', '96.50', '94.55', '94.69', '31686699'],\n",
       " ['22-Feb-16', '96.31', '96.90', '95.92', '96.88', '34048195'],\n",
       " ['19-Feb-16', '96.00', '96.76', '95.80', '96.04', '34485576'],\n",
       " ['18-Feb-16', '98.84', '98.89', '96.09', '96.26', '38494442'],\n",
       " ['17-Feb-16', '96.67', '98.21', '96.15', '98.12', '44390173'],\n",
       " ['16-Feb-16', '95.02', '96.85', '94.61', '96.64', '47490678'],\n",
       " ['12-Feb-16', '94.19', '94.50', '93.01', '93.99', '40121670'],\n",
       " ['11-Feb-16', '93.79', '94.72', '92.59', '93.70', '49686210'],\n",
       " ['10-Feb-16', '95.92', '96.35', '94.10', '94.27', '42244975'],\n",
       " ['9-Feb-16', '94.29', '95.94', '93.93', '94.99', '44262912'],\n",
       " ['8-Feb-16', '93.13', '95.70', '93.04', '95.01', '53852284'],\n",
       " ['5-Feb-16', '96.52', '96.92', '93.69', '94.02', '45853883'],\n",
       " ['4-Feb-16', '95.86', '97.33', '95.19', '96.60', '46263907'],\n",
       " ['3-Feb-16', '95.00', '96.84', '94.08', '96.35', '45366710'],\n",
       " ['2-Feb-16', '95.42', '96.04', '94.28', '94.48', '37081206'],\n",
       " ['1-Feb-16', '96.47', '96.71', '95.40', '96.43', '40571593'],\n",
       " ['29-Jan-16', '94.79', '97.34', '94.35', '97.34', '64010141'],\n",
       " ['28-Jan-16', '93.79', '94.52', '92.39', '94.09', '55557109'],\n",
       " ['27-Jan-16', '96.04', '96.63', '93.34', '93.42', '132224500'],\n",
       " ['26-Jan-16', '99.93', '100.88', '98.07', '99.99', '63538305'],\n",
       " ['25-Jan-16', '101.52', '101.53', '99.21', '99.44', '51196375'],\n",
       " ['22-Jan-16', '98.63', '101.46', '98.37', '101.42', '65562769'],\n",
       " ['21-Jan-16', '97.06', '97.88', '94.94', '96.30', '52054521'],\n",
       " ['20-Jan-16', '95.10', '98.19', '93.42', '96.79', '72008265'],\n",
       " ['19-Jan-16', '98.41', '98.65', '95.50', '96.66', '52841349'],\n",
       " ['15-Jan-16', '96.20', '97.71', '95.36', '97.13', '79010008'],\n",
       " ['14-Jan-16', '97.96', '100.48', '95.74', '99.52', '62424154'],\n",
       " ['13-Jan-16', '100.32', '101.19', '97.30', '97.39', '61745031'],\n",
       " ['12-Jan-16', '100.55', '100.69', '98.84', '99.96', '49154227'],\n",
       " ['11-Jan-16', '98.97', '99.06', '97.34', '98.53', '49739377'],\n",
       " ['8-Jan-16', '98.55', '99.11', '96.76', '96.96', '70798016'],\n",
       " ['7-Jan-16', '98.68', '100.13', '96.43', '96.45', '81094428'],\n",
       " ['6-Jan-16', '100.56', '102.37', '99.87', '100.70', '68457388'],\n",
       " ['5-Jan-16', '105.75', '105.85', '102.41', '102.71', '55790992'],\n",
       " ['4-Jan-16', '102.61', '105.37', '102.00', '105.35', '67281190'],\n",
       " ['31-Dec-15', '107.01', '107.03', '104.82', '105.26', '40912316'],\n",
       " ['30-Dec-15', '108.58', '108.70', '107.18', '107.32', '25213777'],\n",
       " ['29-Dec-15', '106.96', '109.43', '106.86', '108.74', '30931243'],\n",
       " ['28-Dec-15', '107.59', '107.69', '106.18', '106.82', '26704210'],\n",
       " ['24-Dec-15', '109.00', '109.00', '107.95', '108.03', '13596680'],\n",
       " ['23-Dec-15', '107.27', '108.85', '107.20', '108.61', '32657354'],\n",
       " ['22-Dec-15', '107.40', '107.72', '106.45', '107.23', '32789367'],\n",
       " ['21-Dec-15', '107.28', '107.37', '105.57', '107.33', '47590610'],\n",
       " ['18-Dec-15', '108.91', '109.52', '105.81', '106.03', '96453327'],\n",
       " ['17-Dec-15', '112.02', '112.25', '108.98', '108.98', '44772827'],\n",
       " ['16-Dec-15', '111.07', '111.99', '108.80', '111.34', '56238467'],\n",
       " ['15-Dec-15', '111.94', '112.80', '110.35', '110.49', '53323105'],\n",
       " ['14-Dec-15', '112.18', '112.68', '109.79', '112.48', '64318732'],\n",
       " ['11-Dec-15', '115.19', '115.39', '112.85', '113.18', '46886161'],\n",
       " ['10-Dec-15', '116.04', '116.94', '115.51', '116.17', '29212727']]"
      ]
     },
     "execution_count": 39,
     "metadata": {},
     "output_type": "execute_result"
    }
   ],
   "source": [
    "rows"
   ]
  },
  {
   "cell_type": "markdown",
   "metadata": {},
   "source": [
    "### Writing a CSV file\n",
    "\n",
    "To write to CSV file, use csv.writer object."
   ]
  },
  {
   "cell_type": "code",
   "execution_count": 43,
   "metadata": {},
   "outputs": [],
   "source": [
    "# field names\n",
    "fields = ['Name', 'Branch', 'Year', 'CGPA']\n",
    " \n",
    "# data rows of csv file\n",
    "rows = [ ['Nikhil', 'COE', '2', '9.0'],\n",
    "         ['Sanchit', 'COE', '2', '9.1'],\n",
    "         ['Aditya', 'IT', '2', '9.3'],\n",
    "         ['Sagar', 'SE', '1', '9.5'],\n",
    "         ['Prateek', 'MCE', '3', '7.8'],\n",
    "         ['Sahil', 'EP', '2', '9.1']]"
   ]
  },
  {
   "cell_type": "code",
   "execution_count": 44,
   "metadata": {},
   "outputs": [],
   "source": [
    "filename = \"example.csv\""
   ]
  },
  {
   "cell_type": "code",
   "execution_count": 45,
   "metadata": {},
   "outputs": [],
   "source": [
    "# writing to csv file\n",
    "with open(filename, 'w') as csvfile:\n",
    "    # creating a csv writer object\n",
    "    csvwriter = csv.writer(csvfile)\n",
    "     \n",
    "    # writing the fields\n",
    "    csvwriter.writerow(fields)\n",
    "     \n",
    "    # writing the data rows\n",
    "    csvwriter.writerows(rows)"
   ]
  },
  {
   "cell_type": "markdown",
   "metadata": {},
   "source": [
    "### Writing a dictionary to a CSV file\n",
    "\n",
    "csv.DictWriter object"
   ]
  },
  {
   "cell_type": "code",
   "execution_count": null,
   "metadata": {},
   "outputs": [],
   "source": [
    "# my data rows as dictionary objects\n",
    "mydict =[{'branch': 'COE', 'cgpa': '9.0', 'name': 'Nikhil', 'year': '2'},\n",
    "         {'branch': 'COE', 'cgpa': '9.1', 'name': 'Sanchit', 'year': '2'},\n",
    "         {'branch': 'IT', 'cgpa': '9.3', 'name': 'Aditya', 'year': '2'},\n",
    "         {'branch': 'SE', 'cgpa': '9.5', 'name': 'Sagar', 'year': '1'},\n",
    "         {'branch': 'MCE', 'cgpa': '7.8', 'name': 'Prateek', 'year': '3'},\n",
    "         {'branch': 'EP', 'cgpa': '9.1', 'name': 'Sahil', 'year': '2'}]\n",
    " \n",
    "# field names\n",
    "fields = ['name', 'branch', 'year', 'cgpa']"
   ]
  },
  {
   "cell_type": "code",
   "execution_count": null,
   "metadata": {},
   "outputs": [],
   "source": [
    "# writing to csv file\n",
    "with open(filename, 'w') as csvfile:\n",
    "    # creating a csv dict writer object\n",
    "    writer = csv.DictWriter(csvfile, fieldnames = fields)\n",
    "     \n",
    "    # writing headers (field names)\n",
    "    writer.writeheader()\n",
    "     \n",
    "    # writing data rows\n",
    "    writer.writerows(mydict)"
   ]
  },
  {
   "cell_type": "markdown",
   "metadata": {},
   "source": [
    "![](http://i.imgur.com/IFF1FJo.jpg)"
   ]
  },
  {
   "cell_type": "markdown",
   "metadata": {},
   "source": [
    "## 5. ZIP files\n",
    "\n",
    ">ZIP is an archive file format that supports lossless data compression. By lossless compression, we mean that the compression algorithm allows the original data to be perfectly reconstructed from the compressed data. So, a ZIP file is a single file containing one or more compressed files, offering an ideal way to make large files smaller and keep related files together.\n",
    "\n",
    "Why do we need zip files?\n",
    "\n",
    "- To reduce storage requirements.\n",
    "- To improve transfer speed over standard connections.\n",
    "\n",
    "To work on zip files using python, we will use an inbuilt python module called zipfile."
   ]
  },
  {
   "cell_type": "markdown",
   "metadata": {},
   "source": [
    "### Extracting from a zipfile"
   ]
  },
  {
   "cell_type": "code",
   "execution_count": 46,
   "metadata": {},
   "outputs": [
    {
     "name": "stdout",
     "output_type": "stream",
     "text": [
      "File Name                                             Modified             Size\n",
      "my_files/                                      2017-12-23 10:49:46            0\n",
      "my_files/b.txt                                 2017-12-23 10:49:00            2\n",
      "my_files/a.txt                                 2017-12-23 10:48:50            2\n",
      "Extracting all the files now...\n",
      "Done!\n"
     ]
    }
   ],
   "source": [
    "# importing required modules\n",
    "from zipfile import ZipFile\n",
    " \n",
    "# specifying the zip file name\n",
    "file_name = \"resources/my_files.zip\"\n",
    " \n",
    "# opening the zip file in READ mode\n",
    "with ZipFile(file_name, 'r') as zip:\n",
    "    # printing all the contents of the zip file\n",
    "    zip.printdir()\n",
    " \n",
    "    # extracting all the files\n",
    "    print('Extracting all the files now...')\n",
    "    zip.extractall()\n",
    "    print('Done!')"
   ]
  },
  {
   "cell_type": "markdown",
   "metadata": {},
   "source": [
    "### Writing to a zip file"
   ]
  },
  {
   "cell_type": "code",
   "execution_count": 48,
   "metadata": {},
   "outputs": [
    {
     "name": "stdout",
     "output_type": "stream",
     "text": [
      "Following files will be zipped:\n",
      "resources/my_files/b.txt\n",
      "resources/my_files/a.txt\n",
      "All files zipped successfully!\n"
     ]
    }
   ],
   "source": [
    "import os\n",
    " \n",
    "def get_all_file_paths(directory):\n",
    " \n",
    "    # initializing empty file paths list\n",
    "    file_paths = []\n",
    " \n",
    "    # crawling through directory and subdirectories\n",
    "    for root, directories, files in os.walk(directory):\n",
    "        for filename in files:\n",
    "            # join the two strings in order to form the full filepath.\n",
    "            filepath = os.path.join(root, filename)\n",
    "            file_paths.append(filepath)\n",
    " \n",
    "    # returning all file paths\n",
    "    return file_paths        \n",
    " \n",
    "    \n",
    "# path to folder which needs to be zipped\n",
    "directory = 'resources/my_files'\n",
    "\n",
    "# calling function to get all file paths in the directory\n",
    "file_paths = get_all_file_paths(directory)\n",
    "\n",
    "# printing the list of all files to be zipped\n",
    "print('Following files will be zipped:')\n",
    "for file_name in file_paths:\n",
    "    print(file_name)\n",
    "\n",
    "# writing files to a zipfile\n",
    "with ZipFile('my_zipped_files.zip','w') as zip:\n",
    "    # writing each file one by one\n",
    "    for file in file_paths:\n",
    "        zip.write(file)\n",
    "\n",
    "print('All files zipped successfully!')"
   ]
  },
  {
   "cell_type": "markdown",
   "metadata": {},
   "source": [
    "## 6. PDF files\n",
    "\n",
    "![](https://lh3.googleusercontent.com/Rkf3FXjYCeQPlExy4RRi32sQs1J-DqGdzONTzGP2khJ992M6oPt1Ob6beMUA69M7vXc=w170)\n",
    "\n",
    ">PDF stands for Portable Document Format. It uses .pdf extension. It is used to present and exchange documents reliably, independent of software, hardware, or operating system.\n",
    "\n",
    ">Invented by Adobe, PDF is now an open standard maintained by the International Organization for Standardization (ISO). PDFs can contain links and buttons, form fields, audio, video, and business logic.\n",
    "\n",
    "We will be using a third-party module, **PyPDF2**.\n",
    "\n",
    "PyPDF2 is a python library built as a PDF toolkit. It is capable of:\n",
    "\n",
    "- Extracting document information (title, author, …)\n",
    "- Splitting documents page by page\n",
    "- Merging documents page by page\n",
    "- Cropping pages\n",
    "- Merging multiple pages into a single page\n",
    "- Encrypting and decrypting PDF files\n",
    "and more!\n",
    "\n",
    "To install PyPDF2:\n",
    "\n",
    "```\n",
    "$ pip install PyPDF2\n",
    "```"
   ]
  },
  {
   "cell_type": "markdown",
   "metadata": {},
   "source": [
    "### Extracting text from PDF files"
   ]
  },
  {
   "cell_type": "code",
   "execution_count": null,
   "metadata": {},
   "outputs": [],
   "source": [
    "# importing required modules\n",
    "import PyPDF2\n",
    " \n",
    "# creating a pdf file object\n",
    "pdfFileObj = open('resources/example.pdf', 'rb')\n",
    " \n",
    "# creating a pdf reader object\n",
    "pdfReader = PyPDF2.PdfFileReader(pdfFileObj)\n",
    " \n",
    "# printing number of pages in pdf file\n",
    "print(pdfReader.numPages)\n",
    " \n",
    "# creating a page object\n",
    "pageObj = pdfReader.getPage(0)\n",
    " \n",
    "# extracting text from page\n",
    "print(pageObj.extractText())\n",
    " \n",
    "# closing the pdf file object\n",
    "pdfFileObj.close()"
   ]
  },
  {
   "cell_type": "markdown",
   "metadata": {},
   "source": [
    ">While PDF files are great for laying out text in a way that’s easy for people to print and read, they’re not straightforward for software to parse into plaintext. As such, PyPDF2 might make mistakes when extracting text from a PDF and may even be unable to open some PDFs at all. There isn’t much you can do about this, unfortunately. PyPDF2 may simply be unable to work with some of your particular PDF files."
   ]
  },
  {
   "cell_type": "markdown",
   "metadata": {},
   "source": [
    "### Rotating PDF files\n",
    "\n",
    "<img src=http://s2.quickmeme.com/img/63/630da292a23ce1243761be3c8ec658d6efae07579b00c7f4a5a25dc88a97e8b6.jpg height=250 width=250>"
   ]
  },
  {
   "cell_type": "code",
   "execution_count": null,
   "metadata": {},
   "outputs": [],
   "source": [
    "def PDFrotate(origFileName, newFileName, rotation):\n",
    " \n",
    "    # creating a pdf File object of original pdf\n",
    "    pdfFileObj = open(origFileName, 'rb')\n",
    "     \n",
    "    # creating a pdf Reader object\n",
    "    pdfReader = PyPDF2.PdfFileReader(pdfFileObj)\n",
    " \n",
    "    # creating a pdf writer object for new pdf\n",
    "    pdfWriter = PyPDF2.PdfFileWriter()\n",
    "     \n",
    "    # rotating each page\n",
    "    for page in range(pdfReader.numPages):\n",
    " \n",
    "        # creating rotated page object\n",
    "        pageObj = pdfReader.getPage(page)\n",
    "        pageObj.rotateClockwise(rotation)\n",
    " \n",
    "        # adding rotated page object to pdf writer\n",
    "        pdfWriter.addPage(pageObj)\n",
    " \n",
    "    # new pdf file object\n",
    "    newFile = open(newFileName, 'wb')\n",
    "     \n",
    "    # writing rotated pages to new file\n",
    "    pdfWriter.write(newFile)\n",
    " \n",
    "    # closing the original pdf file object\n",
    "    pdfFileObj.close()\n",
    "     \n",
    "    # closing the new pdf file object\n",
    "    newFile.close()\n",
    "     \n",
    "        \n",
    "# original pdf file name\n",
    "origFileName = 'resources/example.pdf'\n",
    "\n",
    "# new pdf file name\n",
    "newFileName = 'resources/rotated_example.pdf'\n",
    "\n",
    "# rotation angle\n",
    "rotation = 270\n",
    "\n",
    "# calling the PDFrotate function\n",
    "PDFrotate(origFileName, newFileName, rotation)"
   ]
  },
  {
   "cell_type": "markdown",
   "metadata": {},
   "source": [
    "### Merging PDF files"
   ]
  },
  {
   "cell_type": "code",
   "execution_count": null,
   "metadata": {},
   "outputs": [],
   "source": [
    "def PDFmerge(pdfs, output): \n",
    "    # creating pdf file merger object\n",
    "    pdfMerger = PyPDF2.PdfFileMerger()\n",
    "     \n",
    "    # appending pdfs one by one\n",
    "    for pdf in pdfs:\n",
    "        with open(pdf, 'rb') as f:\n",
    "            pdfMerger.append(f)\n",
    "         \n",
    "    # writing combined pdf to output pdf file\n",
    "    with open(output, 'wb') as f:\n",
    "        pdfMerger.write(f)\n",
    "\n",
    "# pdf files to merge\n",
    "pdfs = ['resources/example.pdf', 'resources/rotated_example.pdf']\n",
    "\n",
    "# output pdf file name\n",
    "output  = 'resources/combined_example.pdf'\n",
    "\n",
    "# calling pdf merge function\n",
    "PDFmerge(pdfs = pdfs, output = output)\n"
   ]
  },
  {
   "cell_type": "markdown",
   "metadata": {},
   "source": [
    "### Splitting PDF"
   ]
  },
  {
   "cell_type": "code",
   "execution_count": null,
   "metadata": {},
   "outputs": [],
   "source": [
    "resources/def PDFsplit(pdf, splits):\n",
    "    # creating input pdf file object\n",
    "    pdfFileObj = open(pdf, 'rb')\n",
    "     \n",
    "    # creating pdf reader object\n",
    "    pdfReader = PyPDF2.PdfFileReader(pdfFileObj)\n",
    "     \n",
    "    # starting index of first slice\n",
    "    start = 0\n",
    "     \n",
    "    # starting index of last slice\n",
    "    end = splits[0]\n",
    "     \n",
    "     \n",
    "    for i in range(len(splits)+1):\n",
    "        # creating pdf writer object for (i+1)th split\n",
    "        pdfWriter = PyPDF2.PdfFileWriter()\n",
    "         \n",
    "        # output pdf file name\n",
    "        outputpdf = pdf.split('.pdf')[0] + str(i) + '.pdf'\n",
    "         \n",
    "        # adding pages to pdf writer object\n",
    "        for page in range(start,end):\n",
    "            pdfWriter.addPage(pdfReader.getPage(page))\n",
    "         \n",
    "        # writing split pdf pages to pdf file\n",
    "        with open(outputpdf, \"wb\") as f:\n",
    "            pdfWriter.write(f)\n",
    " \n",
    "        # interchanging page split start position for next split\n",
    "        start = end\n",
    "        try:\n",
    "            # setting split end positon for next split\n",
    "            end = splits[i+1]\n",
    "        except IndexError:\n",
    "            # setting split end position for last split\n",
    "            end = pdfReader.numPages\n",
    "         \n",
    "    # closing the input pdf file object\n",
    "    pdfFileObj.close()\n",
    "             \n",
    "\n",
    "# pdf file to split\n",
    "pdf = 'resources/example.pdf'\n",
    "\n",
    "# split page positions\n",
    "splits = [2,4]\n",
    "\n",
    "# calling PDFsplit function to split pdf\n",
    "PDFsplit(pdf, splits)"
   ]
  },
  {
   "cell_type": "markdown",
   "metadata": {},
   "source": [
    "![](https://memegenerator.net/img/instances/400x/60931389.jpg)"
   ]
  },
  {
   "cell_type": "markdown",
   "metadata": {},
   "source": [
    "To learn more:\n",
    "- https://automatetheboringstuff.com/chapter13/\n",
    "- https://pythonhosted.org/PyPDF2/"
   ]
  }
 ],
 "metadata": {
  "kernelspec": {
   "display_name": "Python 3",
   "language": "python",
   "name": "python3"
  },
  "language_info": {
   "codemirror_mode": {
    "name": "ipython",
    "version": 3
   },
   "file_extension": ".py",
   "mimetype": "text/x-python",
   "name": "python",
   "nbconvert_exporter": "python",
   "pygments_lexer": "ipython3",
   "version": "3.6.3"
  }
 },
 "nbformat": 4,
 "nbformat_minor": 2
}
