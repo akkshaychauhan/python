{
 "cells": [
  {
   "cell_type": "markdown",
   "metadata": {},
   "source": [
    "# <p style=\"text-align:center;font-size:70px;background-color:#0ad61b;color:white;font-style:italic;\">Python for web</p>\n",
    "\n",
    "![](http://www.blog.skytopper.com/wp-content/uploads/2015/06/Global-computer-network.jpg)\n",
    "\n",
    "This bootcamp is all about interacting with **web** using Python programming language!\n",
    "\n",
    "In this bootcamp, we will learn:\n",
    "\n",
    "- to work with web APIs\n",
    "- to download content from web\n",
    "- web scraping\n",
    "- web automation\n",
    "\n",
    "using simple python scripts!\n",
    "\n",
    "![](https://i.amz.mshcdn.com/mqczOBQlR2uS7uALqB4fkKylDx0=/fit-in/1200x9600/https%3A%2F%2Fblueprint-api-production.s3.amazonaws.com%2Fuploads%2Fcard%2Fimage%2F193985%2Fnewhere.jpg)"
   ]
  },
  {
   "cell_type": "markdown",
   "metadata": {},
   "source": [
    "# 1. Working with web APIs\n",
    "\n",
    "- **What is API?**<br>\n",
    "    API is a set of routines, protocols, and tools for building software applications. An API specifies how software components should interact. \n",
    "![](https://www.retriever.nl/wp-content/uploads/2016/11/api-321x250.png)\n",
    "-------------\n",
    "\n",
    "- **What is web API?**<br>\n",
    "    Web API is a framework for building HTTP services that can be consumed by a broad range of clients including browsers, mobiles, iphone and tablets.\n",
    "![](http://dselva.co.in/blog/wp-content/uploads/2017/09/Web-APIs.png)\n",
    "-----------------\n",
    "- **Some examples of public web APIs:**\n",
    "    - [Facebook Graph API](https://developers.facebook.com/docs/graph-api)\n",
    "    - [Twitter API](https://dev.twitter.com/rest/public)\n",
    "    - [Google API explorer](https://developers.google.com/apis-explorer/#p/)\n",
    "--------------\n",
    "\n",
    "- **What is REST?**<br>\n",
    "    REST is an architectural style followed by web services, in which, they allow requesting systems to access and manipulate their Web resources using a uniform and predefined set of **stateless operations**.\n",
    "    \n",
    "    >In computing, a stateless protocol is a communications protocol in which no information is retained by either sender or receiver. The sender transmits a packet to the receiver and does not expect an acknowledgment of receipt. There is nothing saved that has to be remembered by the next transaction. The server must be able to completely understand the client request without using any server context or server session state. \n",
    "    \n",
    "   Advantages of REST:\n",
    "   - As the transactions are stateless, we can direct them to any instance of the web service. (As no sessions are involved). Hence, the web service can scale to accommodate load changes.\n",
    "   - Binding to a service through an API is a matter of controlling how the URL is decoded.\n",
    "\n",
    "-----------------\n",
    "- **Types of HTTP requests**\n",
    "    - GET\n",
    "    - POST\n",
    "    - DELETE\n",
    "    - PUT\n",
    "    - PATCH, etc.\n",
    "    \n",
    "![](http://lotsofthing.com/wp-content/uploads/2017/11/rest-api-1.jpg)\n",
    "\n",
    "![](https://memegenerator.net/img/instances/500x/43779314/what-do-u-mean-they-dont-have-a-rest-api.jpg)"
   ]
  },
  {
   "cell_type": "markdown",
   "metadata": {},
   "source": [
    "### HTTP  for humans: [requests](http://docs.python-requests.org/en/master/)\n",
    "\n",
    "<img src=\"http://docs.python-requests.org/en/master/_static/requests-sidebar.png\"  height=200 width=200>\n",
    "\n",
    "\n",
    "- Requests is one of the most downloaded Python packages of all time, pulling in over 7,000,000 downloads every month.All the cool kids are doing it\n",
    "\n",
    "- Recreational use of other HTTP libraries may result in dangerous side-effects, including: security vulnerabilities, verbose code, reinventing the wheel, constantly reading documentation, depression, headaches, or even death. Requests is the only Non-GMO HTTP library for Python, safe for human consumption.\n",
    "\n",
    "- Python HTTP: When in doubt, or when not in doubt, use Requests. Beautiful, simple, Pythonic.\n",
    "\n",
    "***Everybody loves it!***\n",
    "\n",
    "#### Installation\n",
    "\n",
    "```\n",
    "pip install requests\n",
    "```"
   ]
  },
  {
   "cell_type": "markdown",
   "metadata": {},
   "source": [
    "## GET request\n",
    "\n",
    "### Example 1\n",
    "\n",
    "http://graph.facebook.com/4/picture?type=large\n",
    "\n",
    "![](http://graph.facebook.com/4/picture?type=large)\n",
    "\n",
    "![](https://encrypted-tbn0.gstatic.com/images?q=tbn:ANd9GcTJ3ELNuC_coeH9tvLn62fsTMoe-vMVQrsfTrLUOIhsUI69i5QIyg)"
   ]
  },
  {
   "cell_type": "markdown",
   "metadata": {},
   "source": [
    "![](http://i.imgur.com/gRvt4lV.png)"
   ]
  },
  {
   "cell_type": "code",
   "execution_count": 1,
   "metadata": {},
   "outputs": [],
   "source": [
    "import requests"
   ]
  },
  {
   "cell_type": "code",
   "execution_count": 7,
   "metadata": {},
   "outputs": [],
   "source": [
    "url = \"http://graph.facebook.com/4/picture?type=large\""
   ]
  },
  {
   "cell_type": "code",
   "execution_count": 3,
   "metadata": {},
   "outputs": [],
   "source": [
    "r = requests.get(url)"
   ]
  },
  {
   "cell_type": "code",
   "execution_count": 4,
   "metadata": {},
   "outputs": [
    {
     "data": {
      "text/plain": [
       "200"
      ]
     },
     "execution_count": 4,
     "metadata": {},
     "output_type": "execute_result"
    }
   ],
   "source": [
    "r.status_code"
   ]
  },
  {
   "cell_type": "code",
   "execution_count": null,
   "metadata": {
    "scrolled": true
   },
   "outputs": [],
   "source": [
    "r.content"
   ]
  },
  {
   "cell_type": "code",
   "execution_count": 6,
   "metadata": {},
   "outputs": [],
   "source": [
    "with open(\"mark.jpg\", \"wb\") as f:\n",
    "    f.write(r.content)"
   ]
  },
  {
   "cell_type": "markdown",
   "metadata": {},
   "source": [
    "### Example 2\n",
    "\n",
    "[Google maps geocoding API](https://developers.google.com/maps/documentation/geocoding/intro)"
   ]
  },
  {
   "cell_type": "code",
   "execution_count": 8,
   "metadata": {},
   "outputs": [],
   "source": [
    "url = \"https://maps.googleapis.com/maps/api/geocode/json\""
   ]
  },
  {
   "cell_type": "code",
   "execution_count": 9,
   "metadata": {},
   "outputs": [],
   "source": [
    "parameters = {\n",
    "    \"address\": \"coding blocks, kohat enclave\"\n",
    "}"
   ]
  },
  {
   "cell_type": "code",
   "execution_count": 10,
   "metadata": {},
   "outputs": [],
   "source": [
    "r = requests.get(url, params = parameters)"
   ]
  },
  {
   "cell_type": "code",
   "execution_count": 11,
   "metadata": {},
   "outputs": [
    {
     "data": {
      "text/plain": [
       "'https://maps.googleapis.com/maps/api/geocode/json?address=coding+blocks%2C+kohat+enclave'"
      ]
     },
     "execution_count": 11,
     "metadata": {},
     "output_type": "execute_result"
    }
   ],
   "source": [
    "r.url"
   ]
  },
  {
   "cell_type": "code",
   "execution_count": 12,
   "metadata": {},
   "outputs": [
    {
     "data": {
      "text/plain": [
       "200"
      ]
     },
     "execution_count": 12,
     "metadata": {},
     "output_type": "execute_result"
    }
   ],
   "source": [
    "r.status_code"
   ]
  },
  {
   "cell_type": "code",
   "execution_count": 13,
   "metadata": {},
   "outputs": [
    {
     "data": {
      "text/plain": [
       "b'{\\n   \"results\" : [\\n      {\\n         \"address_components\" : [\\n            {\\n               \"long_name\" : \"New Delhi\",\\n               \"short_name\" : \"New Delhi\",\\n               \"types\" : [ \"locality\", \"political\" ]\\n            },\\n            {\\n               \"long_name\" : \"Delhi\",\\n               \"short_name\" : \"DL\",\\n               \"types\" : [ \"administrative_area_level_1\", \"political\" ]\\n            },\\n            {\\n               \"long_name\" : \"India\",\\n               \"short_name\" : \"IN\",\\n               \"types\" : [ \"country\", \"political\" ]\\n            },\\n            {\\n               \"long_name\" : \"110034\",\\n               \"short_name\" : \"110034\",\\n               \"types\" : [ \"postal_code\" ]\\n            }\\n         ],\\n         \"formatted_address\" : \"47, Nishant Kunj, 1st & 2nd Floor, Pitampura Main Road, Opposite Metro Pillar 337, Pitampura, New Delhi, Delhi 110034, India\",\\n         \"geometry\" : {\\n            \"location\" : {\\n               \"lat\" : 28.6969421,\\n               \"lng\" : 77.14238250000001\\n            },\\n            \"location_type\" : \"GEOMETRIC_CENTER\",\\n            \"viewport\" : {\\n               \"northeast\" : {\\n                  \"lat\" : 28.6982910802915,\\n                  \"lng\" : 77.14373148029152\\n               },\\n               \"southwest\" : {\\n                  \"lat\" : 28.6955931197085,\\n                  \"lng\" : 77.14103351970851\\n               }\\n            }\\n         },\\n         \"place_id\" : \"ChIJ_ZBg-dEDDTkRCYK3Ee8ywoI\",\\n         \"types\" : [ \"establishment\", \"point_of_interest\" ]\\n      }\\n   ],\\n   \"status\" : \"OK\"\\n}\\n'"
      ]
     },
     "execution_count": 13,
     "metadata": {},
     "output_type": "execute_result"
    }
   ],
   "source": [
    "r.content"
   ]
  },
  {
   "cell_type": "code",
   "execution_count": 17,
   "metadata": {},
   "outputs": [],
   "source": [
    "data = r.json()"
   ]
  },
  {
   "cell_type": "code",
   "execution_count": 20,
   "metadata": {},
   "outputs": [
    {
     "data": {
      "text/plain": [
       "dict"
      ]
     },
     "execution_count": 20,
     "metadata": {},
     "output_type": "execute_result"
    }
   ],
   "source": [
    "type(data)"
   ]
  },
  {
   "cell_type": "code",
   "execution_count": 19,
   "metadata": {},
   "outputs": [],
   "source": [
    "from pprint import pprint"
   ]
  },
  {
   "cell_type": "code",
   "execution_count": 21,
   "metadata": {},
   "outputs": [
    {
     "name": "stdout",
     "output_type": "stream",
     "text": [
      "{'results': [{'address_components': [{'long_name': 'New Delhi',\n",
      "                                      'short_name': 'New Delhi',\n",
      "                                      'types': ['locality', 'political']},\n",
      "                                     {'long_name': 'Delhi',\n",
      "                                      'short_name': 'DL',\n",
      "                                      'types': ['administrative_area_level_1',\n",
      "                                                'political']},\n",
      "                                     {'long_name': 'India',\n",
      "                                      'short_name': 'IN',\n",
      "                                      'types': ['country', 'political']},\n",
      "                                     {'long_name': '110034',\n",
      "                                      'short_name': '110034',\n",
      "                                      'types': ['postal_code']}],\n",
      "              'formatted_address': '47, Nishant Kunj, 1st & 2nd Floor, '\n",
      "                                   'Pitampura Main Road, Opposite Metro Pillar '\n",
      "                                   '337, Pitampura, New Delhi, Delhi 110034, '\n",
      "                                   'India',\n",
      "              'geometry': {'location': {'lat': 28.6969421,\n",
      "                                        'lng': 77.14238250000001},\n",
      "                           'location_type': 'GEOMETRIC_CENTER',\n",
      "                           'viewport': {'northeast': {'lat': 28.6982910802915,\n",
      "                                                      'lng': 77.14373148029152},\n",
      "                                        'southwest': {'lat': 28.6955931197085,\n",
      "                                                      'lng': 77.14103351970851}}},\n",
      "              'place_id': 'ChIJ_ZBg-dEDDTkRCYK3Ee8ywoI',\n",
      "              'types': ['establishment', 'point_of_interest']}],\n",
      " 'status': 'OK'}\n"
     ]
    }
   ],
   "source": [
    "pprint(data)"
   ]
  },
  {
   "cell_type": "code",
   "execution_count": 25,
   "metadata": {},
   "outputs": [
    {
     "data": {
      "text/plain": [
       "{'lat': 28.6969421, 'lng': 77.14238250000001}"
      ]
     },
     "execution_count": 25,
     "metadata": {},
     "output_type": "execute_result"
    }
   ],
   "source": [
    "data['results'][0]['geometry']['location']"
   ]
  },
  {
   "cell_type": "markdown",
   "metadata": {},
   "source": [
    "## POST request\n",
    "\n",
    "![](https://www.safaribooksonline.com/library/view/head-first-servlets/9780596516680/httpatomoreillycomsourceoreillyimages1377910.png.jpg)"
   ]
  },
  {
   "cell_type": "markdown",
   "metadata": {},
   "source": [
    "### Example 1\n",
    "\n",
    "[Pastebin API](https://pastebin.com/api)"
   ]
  },
  {
   "cell_type": "code",
   "execution_count": 26,
   "metadata": {},
   "outputs": [],
   "source": [
    "key = \"b4d2dc565cf00f0a1e89a0afdb20addc\""
   ]
  },
  {
   "cell_type": "code",
   "execution_count": 27,
   "metadata": {},
   "outputs": [],
   "source": [
    "url = \"https://pastebin.com/api/api_post.php\""
   ]
  },
  {
   "cell_type": "code",
   "execution_count": 28,
   "metadata": {},
   "outputs": [],
   "source": [
    "data = {\n",
    "    \"api_dev_key\": key,\n",
    "    \"api_option\": \"paste\",\n",
    "    \"api_paste_code\": \"Hello, world!\"\n",
    "}"
   ]
  },
  {
   "cell_type": "code",
   "execution_count": 29,
   "metadata": {},
   "outputs": [],
   "source": [
    "r = requests.post(url, data = data)"
   ]
  },
  {
   "cell_type": "code",
   "execution_count": null,
   "metadata": {
    "scrolled": true
   },
   "outputs": [],
   "source": [
    "r.content"
   ]
  },
  {
   "cell_type": "markdown",
   "metadata": {},
   "source": [
    "### Example 2 (Try yourself!)\n",
    "\n",
    "https://m.me/mycodebot\n",
    "\n",
    "[HackeRank code checker API](https://www.hackerrank.com/api/docs)"
   ]
  },
  {
   "cell_type": "code",
   "execution_count": null,
   "metadata": {},
   "outputs": [],
   "source": []
  },
  {
   "cell_type": "markdown",
   "metadata": {},
   "source": [
    "# 2. Downloading files\n",
    "\n",
    "![](https://pics.onsizzle.com/downloading-98-downloading-99-downloading-failed-11367153.png)\n",
    "\n",
    "Downloading large files in chunks!\n",
    "\n",
    "http://www.greenteapress.com/thinkpython/thinkpython.pdf\n",
    "\n",
    "```python\n",
    "chunk_size = 256\n",
    "r = requests.get(url, stream=True)\n",
    "\n",
    "with open(\"python.pdf\", \"wb\") as f:\n",
    "    for chunk in r.iter_content(chunk_size=chunk_size):\n",
    "        f.write(chunk)\n",
    "```"
   ]
  },
  {
   "cell_type": "code",
   "execution_count": 1,
   "metadata": {},
   "outputs": [],
   "source": [
    "import requests"
   ]
  },
  {
   "cell_type": "code",
   "execution_count": 2,
   "metadata": {},
   "outputs": [],
   "source": [
    "url = \"http://www.greenteapress.com/thinkpython/thinkpython.pdf\""
   ]
  },
  {
   "cell_type": "code",
   "execution_count": 3,
   "metadata": {},
   "outputs": [],
   "source": [
    "chunk_size = 256"
   ]
  },
  {
   "cell_type": "code",
   "execution_count": 4,
   "metadata": {},
   "outputs": [],
   "source": [
    "r = requests.get(url, stream=True)"
   ]
  },
  {
   "cell_type": "code",
   "execution_count": 5,
   "metadata": {},
   "outputs": [],
   "source": [
    "with open(\"python.pdf\", \"wb\") as f:\n",
    "    for chunk in r.iter_content(chunk_size=chunk_size):\n",
    "        f.write(chunk)"
   ]
  },
  {
   "cell_type": "markdown",
   "metadata": {},
   "source": [
    "# 3. Web scraping\n",
    "\n",
    "![](https://image.slidesharecdn.com/scrapingtotherescue-160713133749/95/getting-started-with-web-scraping-in-python-9-638.jpg?cb=1468417631)\n"
   ]
  },
  {
   "cell_type": "markdown",
   "metadata": {},
   "source": [
    "## [Beautiful Soup](https://www.crummy.com/software/BeautifulSoup/bs4/doc/)\n",
    "\n",
    ">Beautiful Soup is a Python library for pulling data out of HTML and XML files. It works with your favorite parser to provide idiomatic ways of navigating, searching, and modifying the parse tree. It commonly saves programmers hours or days of work.\n",
    "\n",
    "### Installation\n",
    "\n",
    "```\n",
    "pip install bs4\n",
    "```\n",
    "\n",
    "**Bonus:**\n",
    "```\n",
    "pip install html5lib\n",
    "```"
   ]
  },
  {
   "cell_type": "markdown",
   "metadata": {},
   "source": [
    "https://www.values.com/inspirational-quotes"
   ]
  },
  {
   "cell_type": "code",
   "execution_count": 6,
   "metadata": {},
   "outputs": [],
   "source": [
    "url = \"https://www.values.com/inspirational-quotes\""
   ]
  },
  {
   "cell_type": "code",
   "execution_count": 7,
   "metadata": {},
   "outputs": [],
   "source": [
    "r = requests.get(url)"
   ]
  },
  {
   "cell_type": "code",
   "execution_count": 9,
   "metadata": {},
   "outputs": [],
   "source": [
    "from bs4 import BeautifulSoup"
   ]
  },
  {
   "cell_type": "code",
   "execution_count": 10,
   "metadata": {},
   "outputs": [],
   "source": [
    "soup = BeautifulSoup(r.content, \"html5lib\")"
   ]
  },
  {
   "cell_type": "code",
   "execution_count": null,
   "metadata": {
    "scrolled": false
   },
   "outputs": [],
   "source": [
    "print(soup.prettify())"
   ]
  },
  {
   "cell_type": "code",
   "execution_count": 12,
   "metadata": {},
   "outputs": [],
   "source": [
    "articles = soup.findAll(\"article\")"
   ]
  },
  {
   "cell_type": "code",
   "execution_count": 13,
   "metadata": {},
   "outputs": [
    {
     "data": {
      "text/plain": [
       "16"
      ]
     },
     "execution_count": 13,
     "metadata": {},
     "output_type": "execute_result"
    }
   ],
   "source": [
    "len(articles)"
   ]
  },
  {
   "cell_type": "code",
   "execution_count": 17,
   "metadata": {},
   "outputs": [
    {
     "data": {
      "text/plain": [
       "<article class=\"portfolio-item quotation civility\">\n",
       "    <div class=\"portfolio-image\">\n",
       "        <a href=\"/inspirational-quotes/7715-practice-civility-toward-one-another-admire\"><img alt=\"Practice civility toward one another. Admire and emulate ethical behavior wherever you find it. Apply a rigid standard of morality to your lives; and if, periodically, you fail as you surely will, ­adjust your lives, not the standards.  #&lt;Author:0x007ff624f482e8&gt;\" class=\"hover\" src=\"https://quotes.values.com/quote_artwork/7715/medium/12.22PassItOn_-_Social_Media_-_General_Quotes_20171218_-_Civility_FINAL-9.jpg?1513124366\"/></a>\n",
       "    </div>\n",
       "</article>"
      ]
     },
     "execution_count": 17,
     "metadata": {},
     "output_type": "execute_result"
    }
   ],
   "source": [
    "articles[0]"
   ]
  },
  {
   "cell_type": "code",
   "execution_count": 18,
   "metadata": {},
   "outputs": [],
   "source": [
    "a = articles[0]"
   ]
  },
  {
   "cell_type": "code",
   "execution_count": 19,
   "metadata": {},
   "outputs": [
    {
     "data": {
      "text/plain": [
       "'/inspirational-quotes/7715-practice-civility-toward-one-another-admire'"
      ]
     },
     "execution_count": 19,
     "metadata": {},
     "output_type": "execute_result"
    }
   ],
   "source": [
    "a.div.a['href']"
   ]
  },
  {
   "cell_type": "code",
   "execution_count": 21,
   "metadata": {},
   "outputs": [
    {
     "data": {
      "text/plain": [
       "'https://quotes.values.com/quote_artwork/7715/medium/12.22PassItOn_-_Social_Media_-_General_Quotes_20171218_-_Civility_FINAL-9.jpg?1513124366'"
      ]
     },
     "execution_count": 21,
     "metadata": {},
     "output_type": "execute_result"
    }
   ],
   "source": [
    "a.div.a.img['src']"
   ]
  },
  {
   "cell_type": "code",
   "execution_count": 15,
   "metadata": {},
   "outputs": [],
   "source": [
    "quotes = []"
   ]
  },
  {
   "cell_type": "code",
   "execution_count": 22,
   "metadata": {},
   "outputs": [],
   "source": [
    "for article in articles:\n",
    "    quote = {}\n",
    "    quote['link'] = article.div.a['href']\n",
    "    quote['img'] = article.div.a.img['src']\n",
    "    quote['text'] = article.div.a.img['alt']\n",
    "    \n",
    "    quotes.append(quote)"
   ]
  },
  {
   "cell_type": "code",
   "execution_count": 24,
   "metadata": {},
   "outputs": [],
   "source": [
    "import csv"
   ]
  },
  {
   "cell_type": "code",
   "execution_count": 25,
   "metadata": {},
   "outputs": [],
   "source": [
    "fields = ['link', 'img', 'text']"
   ]
  },
  {
   "cell_type": "code",
   "execution_count": 32,
   "metadata": {},
   "outputs": [],
   "source": [
    "with open(\"quotes.csv\", \"w\") as f:\n",
    "    writer = csv.DictWriter(f, fieldnames=fields)\n",
    "    writer.writeheader()\n",
    "    writer.writerows(quotes)"
   ]
  },
  {
   "cell_type": "markdown",
   "metadata": {},
   "source": [
    "## Codechef contests scraper example"
   ]
  },
  {
   "cell_type": "code",
   "execution_count": 13,
   "metadata": {},
   "outputs": [],
   "source": [
    "url = \"https://www.codechef.com/contests\"\n",
    "\n",
    "r = requests.get(url)\n",
    "soup = BeautifulSoup(r.content, \"html5lib\")"
   ]
  },
  {
   "cell_type": "code",
   "execution_count": 18,
   "metadata": {},
   "outputs": [],
   "source": [
    "tables = soup.findAll(\"table\")\n",
    "print(len(tables))"
   ]
  },
  {
   "cell_type": "code",
   "execution_count": 22,
   "metadata": {},
   "outputs": [],
   "source": [
    "table = tables[0]\n",
    "print(table)"
   ]
  },
  {
   "cell_type": "code",
   "execution_count": 31,
   "metadata": {},
   "outputs": [],
   "source": [
    "tbody = table.findAll('tbody')[1]"
   ]
  },
  {
   "cell_type": "code",
   "execution_count": 32,
   "metadata": {},
   "outputs": [],
   "source": [
    "rows = tbody.findAll('tr')\n",
    "print(len(rows))"
   ]
  },
  {
   "cell_type": "code",
   "execution_count": 34,
   "metadata": {},
   "outputs": [
    {
     "data": {
      "text/plain": [
       "<tr>\n",
       "                    <td>INOIPRAC</td>\n",
       "                    <td><a href=\"/INOIPRAC\">INOI Practice Contest</a></td>\n",
       "                    <td class=\"start_date\" data-starttime=\"2016-01-05T00:00:00+05:30\">05 Jan 2016 <br/> 00:00:00</td>\n",
       "                    <td class=\"end_date\" data-endtime=\"2020-01-05T00:00:00+05:30\">05 Jan 2020 <br/> 00:00:00</td>\n",
       "                </tr>"
      ]
     },
     "execution_count": 34,
     "metadata": {},
     "output_type": "execute_result"
    }
   ],
   "source": [
    "rows[0]"
   ]
  },
  {
   "cell_type": "code",
   "execution_count": 36,
   "metadata": {},
   "outputs": [],
   "source": [
    "contests  = []\n",
    "for row in rows:\n",
    "    tds = row.findAll('td')\n",
    "    contest = []\n",
    "    for td in tds:\n",
    "        contest.append(td.text)\n",
    "    contests.append(contest)"
   ]
  },
  {
   "cell_type": "code",
   "execution_count": 37,
   "metadata": {},
   "outputs": [
    {
     "data": {
      "text/plain": [
       "[['INOIPRAC',\n",
       "  'INOI Practice Contest',\n",
       "  '05 Jan 2016  00:00:00',\n",
       "  '05 Jan 2020  00:00:00'],\n",
       " ['ZCOPRAC',\n",
       "  'ZCO Practice Contest',\n",
       "  '05 Nov 2015  00:00:00',\n",
       "  '05 Jan 2018  00:00:00']]"
      ]
     },
     "execution_count": 37,
     "metadata": {},
     "output_type": "execute_result"
    }
   ],
   "source": [
    "contests"
   ]
  },
  {
   "cell_type": "code",
   "execution_count": 39,
   "metadata": {},
   "outputs": [
    {
     "name": "stdout",
     "output_type": "stream",
     "text": [
      "+----------+-----------------------+-----------------------+-----------------------+\n",
      "| code     | name                  | start                 | end                   |\n",
      "+==========+=======================+=======================+=======================+\n",
      "| INOIPRAC | INOI Practice Contest | 05 Jan 2016  00:00:00 | 05 Jan 2020  00:00:00 |\n",
      "+----------+-----------------------+-----------------------+-----------------------+\n",
      "| ZCOPRAC  | ZCO Practice Contest  | 05 Nov 2015  00:00:00 | 05 Jan 2018  00:00:00 |\n",
      "+----------+-----------------------+-----------------------+-----------------------+\n"
     ]
    }
   ],
   "source": [
    "print(tabulate(contests, tablefmt=\"grid\", headers=[\"code\", \"name\", \"start\", \"end\"]))"
   ]
  },
  {
   "cell_type": "code",
   "execution_count": 9,
   "metadata": {},
   "outputs": [],
   "source": [
    "from tabulate import tabulate"
   ]
  },
  {
   "cell_type": "code",
   "execution_count": 10,
   "metadata": {},
   "outputs": [],
   "source": [
    "data = [[1,2,3],\n",
    "       [4,5,6],\n",
    "       [7,8,9]]"
   ]
  },
  {
   "cell_type": "code",
   "execution_count": 12,
   "metadata": {},
   "outputs": [
    {
     "name": "stdout",
     "output_type": "stream",
     "text": [
      "+---+---+---+\n",
      "| 1 | 2 | 3 |\n",
      "+---+---+---+\n",
      "| 4 | 5 | 6 |\n",
      "+---+---+---+\n",
      "| 7 | 8 | 9 |\n",
      "+---+---+---+\n"
     ]
    }
   ],
   "source": [
    "print(tabulate(data, tablefmt=\"grid\"))"
   ]
  },
  {
   "cell_type": "markdown",
   "metadata": {},
   "source": [
    "![](http://www.entropywebscraping.com/wp-content/uploads/2017/02/Screenshot-from-2017-02-01-10-23-00.png)"
   ]
  },
  {
   "cell_type": "markdown",
   "metadata": {},
   "source": [
    "# 4. Web automation\n",
    "\n",
    "![](https://images.contentful.com/qs7jgwzogkzr/6HeUbprAsMYek2Keqi0WYo/d8ad7cf2f15e706ead76e00a53859cc7/testing-automation-alternatives.jpg)\n",
    "\n",
    "**Task:** Automatically submit the code for a problem on [codechef](https://www.codechef.com/).\n",
    "\n",
    "### [Selenium](http://selenium-python.readthedocs.io/) : Web automation and testing\n",
    "\n",
    "![](https://udemy-images.udemy.com/course/750x422/482754_7146_4.jpg)\n",
    "\n",
    "\n",
    "#### Installation\n",
    "\n",
    "- To install python bindings for selenium:\n",
    "    ```\n",
    "    pip install selenium\n",
    "    ```\n",
    "    \n",
    "- To install webdriver:\n",
    "\n",
    "    http://selenium-python.readthedocs.io/installation.html#drivers\n",
    "    \n",
    "    [How to put webdriver in PATH?](https://stackoverflow.com/questions/40208051/selenium-using-python-geckodriver-executable-needs-to-be-in-path)\n",
    "\n",
    "#### To start a browser session\n",
    "```python\n",
    "from selenium import webdriver\n",
    "browser = webdriver.Firefox()\n",
    "```\n",
    "\n",
    "#### To open a webpage\n",
    "```python\n",
    "browser.get('https://www.codechef.com')\n",
    "```\n",
    "\n",
    "#### To select an element by its id\n",
    "```python\n",
    "browser.find_element_by_id(<id>)\n",
    "```\n",
    "\n",
    "#### Input value in element\n",
    "```python\n",
    "element.send_keys()\n",
    "```\n",
    "\n",
    "#### Click on an element\n",
    "```python\n",
    "element.click()\n",
    "```"
   ]
  },
  {
   "cell_type": "code",
   "execution_count": 33,
   "metadata": {},
   "outputs": [],
   "source": [
    "from selenium import webdriver\n",
    "browser = webdriver.Firefox()"
   ]
  },
  {
   "cell_type": "code",
   "execution_count": 34,
   "metadata": {},
   "outputs": [],
   "source": [
    "browser.get('https://www.codechef.com')"
   ]
  },
  {
   "cell_type": "code",
   "execution_count": 35,
   "metadata": {},
   "outputs": [],
   "source": [
    "user_input = browser.find_element_by_id('edit-name')"
   ]
  },
  {
   "cell_type": "code",
   "execution_count": 36,
   "metadata": {},
   "outputs": [],
   "source": [
    "user_input.send_keys(\"nikhilksingh97\")"
   ]
  },
  {
   "cell_type": "code",
   "execution_count": 37,
   "metadata": {},
   "outputs": [
    {
     "name": "stdout",
     "output_type": "stream",
     "text": [
      "········\n"
     ]
    }
   ],
   "source": [
    "from getpass import getpass\n",
    "\n",
    "password = getpass()"
   ]
  },
  {
   "cell_type": "code",
   "execution_count": 38,
   "metadata": {},
   "outputs": [],
   "source": [
    "pass_input = browser.find_element_by_id('edit-pass')"
   ]
  },
  {
   "cell_type": "code",
   "execution_count": 39,
   "metadata": {},
   "outputs": [],
   "source": [
    "pass_input.send_keys(password)"
   ]
  },
  {
   "cell_type": "code",
   "execution_count": 40,
   "metadata": {},
   "outputs": [],
   "source": [
    "from selenium.webdriver.common.keys import Keys"
   ]
  },
  {
   "cell_type": "code",
   "execution_count": 41,
   "metadata": {},
   "outputs": [],
   "source": [
    "pass_input.send_keys(Keys.ENTER)"
   ]
  },
  {
   "cell_type": "code",
   "execution_count": 42,
   "metadata": {},
   "outputs": [],
   "source": [
    "browser.get(\"https://www.codechef.com/submit/FCTRL2\")"
   ]
  },
  {
   "cell_type": "code",
   "execution_count": 44,
   "metadata": {},
   "outputs": [],
   "source": [
    "toggle = browser.find_element_by_id(\"edit_area_toggle_checkbox_edit-program\")"
   ]
  },
  {
   "cell_type": "code",
   "execution_count": 45,
   "metadata": {},
   "outputs": [],
   "source": [
    "toggle.click()"
   ]
  },
  {
   "cell_type": "code",
   "execution_count": 46,
   "metadata": {},
   "outputs": [],
   "source": [
    "code = '''\n",
    "n = int(input())\n",
    "for _ in range(n):\n",
    "    k = int(input())\n",
    "    ans = 1\n",
    "    for x in range(1,k+1):\n",
    "        ans *= x\n",
    "    print(ans)\n",
    "'''"
   ]
  },
  {
   "cell_type": "code",
   "execution_count": 47,
   "metadata": {},
   "outputs": [],
   "source": [
    "program_input = browser.find_element_by_id(\"edit-program\")"
   ]
  },
  {
   "cell_type": "code",
   "execution_count": 48,
   "metadata": {},
   "outputs": [],
   "source": [
    "program_input.send_keys(code)"
   ]
  },
  {
   "cell_type": "code",
   "execution_count": 49,
   "metadata": {},
   "outputs": [],
   "source": [
    "browser.find_element_by_id(\"edit-submit\").click()"
   ]
  },
  {
   "cell_type": "markdown",
   "metadata": {},
   "source": [
    "![](https://i.imgflip.com/poxkz.jpg)"
   ]
  },
  {
   "cell_type": "markdown",
   "metadata": {},
   "source": [
    "## Resourses:\n",
    "\n",
    "- Articles:\n",
    "\n",
    "    - https://indianpythonista.wordpress.com/2016/12/10/get-and-post-requests-using-python/\n",
    "\n",
    "    - https://indianpythonista.wordpress.com/2016/10/18/requests-http-for-pythonistas/\n",
    "\n",
    "    - https://indianpythonista.wordpress.com/2016/12/10/downloading-files-from-web-using-python/\n",
    "\n",
    "    - https://indianpythonista.wordpress.com/2016/12/10/implementing-web-scraping-in-python-with-beautiful-soup/\n",
    "    \n",
    "- Videos:\n",
    "\n",
    "    - File downloader: https://www.youtube.com/watch?v=Xhw2l-hzoKk\n",
    "    \n",
    "    - Web scraping: https://www.youtube.com/watch?v=lIkd_jt28i0"
   ]
  }
 ],
 "metadata": {
  "kernelspec": {
   "display_name": "Python 3",
   "language": "python",
   "name": "python3"
  },
  "language_info": {
   "codemirror_mode": {
    "name": "ipython",
    "version": 3
   },
   "file_extension": ".py",
   "mimetype": "text/x-python",
   "name": "python",
   "nbconvert_exporter": "python",
   "pygments_lexer": "ipython3",
   "version": "3.6.3"
  }
 },
 "nbformat": 4,
 "nbformat_minor": 2
}
